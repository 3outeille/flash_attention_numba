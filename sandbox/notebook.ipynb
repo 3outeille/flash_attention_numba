{
 "cells": [
  {
   "cell_type": "code",
   "execution_count": 8,
   "metadata": {},
   "outputs": [
    {
     "data": {
      "text/plain": [
       "(tensor([[[[ 0.1,  0.2,  0.3,  0.4,  0.5,  0.6,  0.7,  0.8,  0.9,  1.0,  1.1,\n",
       "             1.2,  1.3,  1.4,  1.5,  1.6,  1.7,  1.8,  1.9,  2.0,  2.1,  2.2,\n",
       "             2.3,  2.4,  2.5,  2.6,  2.7,  2.8,  2.9,  3.0,  3.1,  3.2,  3.3,\n",
       "             3.4,  3.5,  3.6,  3.7,  3.8,  3.9,  4.0,  4.1,  4.2,  4.3,  4.4,\n",
       "             4.5,  4.6,  4.7,  4.8,  4.9,  5.0,  5.1,  5.2,  5.3,  5.4,  5.5,\n",
       "             5.6,  5.7,  5.8,  5.9,  6.0,  6.1,  6.2,  6.3,  6.4],\n",
       "           [ 6.5,  6.6,  6.7,  6.8,  6.9,  7.0,  7.1,  7.2,  7.3,  7.4,  7.5,\n",
       "             7.6,  7.7,  7.8,  7.9,  8.0,  8.1,  8.2,  8.3,  8.4,  8.5,  8.6,\n",
       "             8.7,  8.8,  8.9,  9.0,  9.1,  9.2,  9.3,  9.4,  9.5,  9.6,  9.7,\n",
       "             9.8,  9.9, 10.0, 10.1, 10.2, 10.3, 10.4, 10.5, 10.6, 10.7, 10.8,\n",
       "            10.9, 11.0, 11.1, 11.2, 11.3, 11.4, 11.5, 11.6, 11.7, 11.8, 11.9,\n",
       "            12.0, 12.1, 12.2, 12.3, 12.4, 12.5, 12.6, 12.7, 12.8]],\n",
       " \n",
       "          [[12.9, 13.0, 13.1, 13.2, 13.3, 13.4, 13.5, 13.6, 13.7, 13.8, 13.9,\n",
       "            14.0, 14.1, 14.2, 14.3, 14.4, 14.5, 14.6, 14.7, 14.8, 14.9, 15.0,\n",
       "            15.1, 15.2, 15.3, 15.4, 15.5, 15.6, 15.7, 15.8, 15.9, 16.0, 16.1,\n",
       "            16.2, 16.3, 16.4, 16.5, 16.6, 16.7, 16.8, 16.9, 17.0, 17.1, 17.2,\n",
       "            17.3, 17.4, 17.5, 17.6, 17.7, 17.8, 17.9, 18.0, 18.1, 18.2, 18.3,\n",
       "            18.4, 18.5, 18.6, 18.7, 18.8, 18.9, 19.0, 19.1, 19.2],\n",
       "           [19.3, 19.4, 19.5, 19.6, 19.7, 19.8, 19.9, 20.0, 20.1, 20.2, 20.3,\n",
       "            20.4, 20.5, 20.6, 20.7, 20.8, 20.9, 21.0, 21.1, 21.2, 21.3, 21.4,\n",
       "            21.5, 21.6, 21.7, 21.8, 21.9, 22.0, 22.1, 22.2, 22.3, 22.4, 22.5,\n",
       "            22.6, 22.7, 22.8, 22.9, 23.0, 23.1, 23.2, 23.3, 23.4, 23.5, 23.6,\n",
       "            23.7, 23.8, 23.9, 24.0, 24.1, 24.2, 24.3, 24.4, 24.5, 24.6, 24.7,\n",
       "            24.8, 24.9, 25.0, 25.1, 25.2, 25.3, 25.4, 25.5, 25.6]]],\n",
       " \n",
       " \n",
       "         [[[25.7, 25.8, 25.9, 26.0, 26.1, 26.2, 26.3, 26.4, 26.5, 26.6, 26.7,\n",
       "            26.8, 26.9, 27.0, 27.1, 27.2, 27.3, 27.4, 27.5, 27.6, 27.7, 27.8,\n",
       "            27.9, 28.0, 28.1, 28.2, 28.3, 28.4, 28.5, 28.6, 28.7, 28.8, 28.9,\n",
       "            29.0, 29.1, 29.2, 29.3, 29.4, 29.5, 29.6, 29.7, 29.8, 29.9, 30.0,\n",
       "            30.1, 30.2, 30.3, 30.4, 30.5, 30.6, 30.7, 30.8, 30.9, 31.0, 31.1,\n",
       "            31.2, 31.3, 31.4, 31.5, 31.6, 31.7, 31.8, 31.9, 32.0],\n",
       "           [32.1, 32.2, 32.3, 32.4, 32.5, 32.6, 32.7, 32.8, 32.9, 33.0, 33.1,\n",
       "            33.2, 33.3, 33.4, 33.5, 33.6, 33.7, 33.8, 33.9, 34.0, 34.1, 34.2,\n",
       "            34.3, 34.4, 34.5, 34.6, 34.7, 34.8, 34.9, 35.0, 35.1, 35.2, 35.3,\n",
       "            35.4, 35.5, 35.6, 35.7, 35.8, 35.9, 36.0, 36.1, 36.2, 36.3, 36.4,\n",
       "            36.5, 36.6, 36.7, 36.8, 36.9, 37.0, 37.1, 37.2, 37.3, 37.4, 37.5,\n",
       "            37.6, 37.7, 37.8, 37.9, 38.0, 38.1, 38.2, 38.3, 38.4]],\n",
       " \n",
       "          [[38.5, 38.6, 38.7, 38.8, 38.9, 39.0, 39.1, 39.2, 39.3, 39.4, 39.5,\n",
       "            39.6, 39.7, 39.8, 39.9, 40.0, 40.1, 40.2, 40.3, 40.4, 40.5, 40.6,\n",
       "            40.7, 40.8, 40.9, 41.0, 41.1, 41.2, 41.3, 41.4, 41.5, 41.6, 41.7,\n",
       "            41.8, 41.9, 42.0, 42.1, 42.2, 42.3, 42.4, 42.5, 42.6, 42.7, 42.8,\n",
       "            42.9, 43.0, 43.1, 43.2, 43.3, 43.4, 43.5, 43.6, 43.7, 43.8, 43.9,\n",
       "            44.0, 44.1, 44.2, 44.3, 44.4, 44.5, 44.6, 44.7, 44.8],\n",
       "           [44.9, 45.0, 45.1, 45.2, 45.3, 45.4, 45.5, 45.6, 45.7, 45.8, 45.9,\n",
       "            46.0, 46.1, 46.2, 46.3, 46.4, 46.5, 46.6, 46.7, 46.8, 46.9, 47.0,\n",
       "            47.1, 47.2, 47.3, 47.4, 47.5, 47.6, 47.7, 47.8, 47.9, 48.0, 48.1,\n",
       "            48.2, 48.3, 48.4, 48.5, 48.6, 48.7, 48.8, 48.9, 49.0, 49.1, 49.2,\n",
       "            49.3, 49.4, 49.5, 49.6, 49.7, 49.8, 49.9, 50.0, 50.1, 50.2, 50.3,\n",
       "            50.4, 50.5, 50.6, 50.7, 50.8, 50.9, 51.0, 51.1, 51.2]]],\n",
       " \n",
       " \n",
       "         [[[51.3, 51.4, 51.5, 51.6, 51.7, 51.8, 51.9, 52.0, 52.1, 52.2, 52.3,\n",
       "            52.4, 52.5, 52.6, 52.7, 52.8, 52.9, 53.0, 53.1, 53.2, 53.3, 53.4,\n",
       "            53.5, 53.6, 53.7, 53.8, 53.9, 54.0, 54.1, 54.2, 54.3, 54.4, 54.5,\n",
       "            54.6, 54.7, 54.8, 54.9, 55.0, 55.1, 55.2, 55.3, 55.4, 55.5, 55.6,\n",
       "            55.7, 55.8, 55.9, 56.0, 56.1, 56.2, 56.3, 56.4, 56.5, 56.6, 56.7,\n",
       "            56.8, 56.9, 57.0, 57.1, 57.2, 57.3, 57.4, 57.5, 57.6],\n",
       "           [57.7, 57.8, 57.9, 58.0, 58.1, 58.2, 58.3, 58.4, 58.5, 58.6, 58.7,\n",
       "            58.8, 58.9, 59.0, 59.1, 59.2, 59.3, 59.4, 59.5, 59.6, 59.7, 59.8,\n",
       "            59.9, 60.0, 60.1, 60.2, 60.3, 60.4, 60.5, 60.6, 60.7, 60.8, 60.9,\n",
       "            61.0, 61.1, 61.2, 61.3, 61.4, 61.5, 61.6, 61.7, 61.8, 61.9, 62.0,\n",
       "            62.1, 62.2, 62.3, 62.4, 62.5, 62.6, 62.7, 62.8, 62.9, 63.0, 63.1,\n",
       "            63.2, 63.3, 63.4, 63.5, 63.6, 63.7, 63.8, 63.9, 64.0]],\n",
       " \n",
       "          [[64.1, 64.2, 64.3, 64.4, 64.5, 64.6, 64.7, 64.8, 64.9, 65.0, 65.1,\n",
       "            65.2, 65.3, 65.4, 65.5, 65.6, 65.7, 65.8, 65.9, 66.0, 66.1, 66.2,\n",
       "            66.3, 66.4, 66.5, 66.6, 66.7, 66.8, 66.9, 67.0, 67.1, 67.2, 67.3,\n",
       "            67.4, 67.5, 67.6, 67.7, 67.8, 67.9, 68.0, 68.1, 68.2, 68.3, 68.4,\n",
       "            68.5, 68.6, 68.7, 68.8, 68.9, 69.0, 69.1, 69.2, 69.3, 69.4, 69.5,\n",
       "            69.6, 69.7, 69.8, 69.9, 70.0, 70.1, 70.2, 70.3, 70.4],\n",
       "           [70.5, 70.6, 70.7, 70.8, 70.9, 71.0, 71.1, 71.2, 71.3, 71.4, 71.5,\n",
       "            71.6, 71.7, 71.8, 71.9, 72.0, 72.1, 72.2, 72.3, 72.4, 72.5, 72.6,\n",
       "            72.7, 72.8, 72.9, 73.0, 73.1, 73.2, 73.3, 73.4, 73.5, 73.6, 73.7,\n",
       "            73.8, 73.9, 74.0, 74.1, 74.2, 74.3, 74.4, 74.5, 74.6, 74.7, 74.8,\n",
       "            74.9, 75.0, 75.1, 75.2, 75.3, 75.4, 75.5, 75.6, 75.7, 75.8, 75.9,\n",
       "            76.0, 76.1, 76.2, 76.3, 76.4, 76.5, 76.6, 76.7, 76.8]]]],\n",
       "        dtype=torch.float64),\n",
       " torch.Size([3, 2, 2, 64]))"
      ]
     },
     "execution_count": 8,
     "metadata": {},
     "output_type": "execute_result"
    }
   ],
   "source": [
    "import torch\n",
    "# change print precision\n",
    "torch.set_printoptions(precision=1, sci_mode=False)\n",
    "\n",
    "B, C, SEQ_LEN, D_HEAD = (3, 2, 2, 64)\n",
    "Q = (torch.arange(B * C * SEQ_LEN * D_HEAD, dtype=torch.float64).reshape(B, C, SEQ_LEN, D_HEAD) + 1.) / 10\n",
    "K = (torch.arange(B * C * SEQ_LEN * D_HEAD, dtype=torch.float64).reshape(B, C, SEQ_LEN, D_HEAD) + 1.) / 10\n",
    "V = (torch.arange(B * C * SEQ_LEN * D_HEAD, dtype=torch.float64).reshape(B, C, SEQ_LEN, D_HEAD) + 1.) / 10\n",
    "Q, Q.shape"
   ]
  },
  {
   "cell_type": "code",
   "execution_count": 9,
   "metadata": {},
   "outputs": [
    {
     "name": "stdout",
     "output_type": "stream",
     "text": [
      "tensor([[ 0,  1,  2,  3],\n",
      "        [ 4,  5,  6,  7],\n",
      "        [ 8,  9, 10, 11]]) tensor([ 0,  1,  2,  3,  4,  5,  6,  7,  8,  9, 10, 11])\n",
      "tensor([[ 0,  4,  8],\n",
      "        [ 1,  5,  9],\n",
      "        [ 2,  6, 10],\n",
      "        [ 3,  7, 11]]) tensor([ 0,  4,  8,  1,  5,  9,  2,  6, 10,  3,  7, 11])\n"
     ]
    }
   ],
   "source": [
    "tmp = torch.arange(3 * 4).reshape(3, 4)\n",
    "print(tmp, tmp.flatten())\n",
    "print(tmp.transpose(0, 1), tmp.transpose(0, 1).flatten())"
   ]
  },
  {
   "cell_type": "code",
   "execution_count": 10,
   "metadata": {},
   "outputs": [
    {
     "data": {
      "text/plain": [
       "(torch.Size([3, 2, 2, 2]),\n",
       " tensor([[[[   894.4,   2225.6],\n",
       "           [  2225.6,   6178.2]],\n",
       " \n",
       "          [[ 16705.0,  23279.0],\n",
       "           [ 23279.0,  32474.6]]],\n",
       " \n",
       " \n",
       "         [[[ 53487.0,  65304.0],\n",
       "           [ 65304.0,  79742.4]],\n",
       " \n",
       "          [[111240.6, 128300.5],\n",
       "           [128300.5, 147981.8]]],\n",
       " \n",
       " \n",
       "         [[[189965.8, 212268.5],\n",
       "           [212268.5, 237192.6]],\n",
       " \n",
       "          [[289662.4, 317208.0],\n",
       "           [317208.0, 347375.0]]]], dtype=torch.float64))"
      ]
     },
     "execution_count": 10,
     "metadata": {},
     "output_type": "execute_result"
    }
   ],
   "source": [
    "S = torch.matmul(Q, K.transpose(2, 3))\n",
    "S.shape, S"
   ]
  },
  {
   "cell_type": "code",
   "execution_count": 11,
   "metadata": {},
   "outputs": [
    {
     "name": "stdout",
     "output_type": "stream",
     "text": [
      "tensor([0.1, 0.2, 0.3, 0.4, 0.5, 0.6, 0.7, 0.8, 0.9, 1.0, 1.1, 1.2, 1.3, 1.4,\n",
      "        1.5, 1.6, 1.7, 1.8, 1.9, 2.0, 2.1, 2.2, 2.3, 2.4, 2.5, 2.6, 2.7, 2.8,\n",
      "        2.9, 3.0, 3.1, 3.2, 3.3, 3.4, 3.5, 3.6, 3.7, 3.8, 3.9, 4.0, 4.1, 4.2,\n",
      "        4.3, 4.4, 4.5, 4.6, 4.7, 4.8, 4.9, 5.0, 5.1, 5.2, 5.3, 5.4, 5.5, 5.6,\n",
      "        5.7, 5.8, 5.9, 6.0, 6.1, 6.2, 6.3, 6.4], dtype=torch.float64)\n",
      "tensor([0.1, 0.2, 0.3, 0.4, 0.5, 0.6, 0.7, 0.8, 0.9, 1.0, 1.1, 1.2, 1.3, 1.4,\n",
      "        1.5, 1.6, 1.7, 1.8, 1.9, 2.0, 2.1, 2.2, 2.3, 2.4, 2.5, 2.6, 2.7, 2.8,\n",
      "        2.9, 3.0, 3.1, 3.2, 3.3, 3.4, 3.5, 3.6, 3.7, 3.8, 3.9, 4.0, 4.1, 4.2,\n",
      "        4.3, 4.4, 4.5, 4.6, 4.7, 4.8, 4.9, 5.0, 5.1, 5.2, 5.3, 5.4, 5.5, 5.6,\n",
      "        5.7, 5.8, 5.9, 6.0, 6.1, 6.2, 6.3, 6.4], dtype=torch.float64)\n"
     ]
    }
   ],
   "source": [
    "print(Q[0, 0, 0, :])\n",
    "print(K.transpose(2,3)[0, 0, :, 0])"
   ]
  },
  {
   "cell_type": "code",
   "execution_count": 12,
   "metadata": {},
   "outputs": [
    {
     "name": "stdout",
     "output_type": "stream",
     "text": [
      "tensor(894.4, dtype=torch.float64) tensor(894.4, dtype=torch.float64)\n",
      "tensor(2225.6, dtype=torch.float64) tensor(2225.6, dtype=torch.float64)\n",
      "tensor(2225.6, dtype=torch.float64) tensor(2225.6, dtype=torch.float64)\n",
      "tensor(6178.2, dtype=torch.float64) tensor(6178.2, dtype=torch.float64)\n"
     ]
    }
   ],
   "source": [
    "print(torch.sum(Q[0, 0, 0, :] * K.transpose(2,3)[0, 0, :, 0]), S[0, 0, 0, 0])\n",
    "print(torch.sum(Q[0, 0, 0, :] * K.transpose(2,3)[0, 0, :, 1]), S[0, 0, 0, 1])\n",
    "print(torch.sum(Q[0, 0, 1, :] * K.transpose(2,3)[0, 0, :, 0]), S[0, 0, 1, 0])\n",
    "print(torch.sum(Q[0, 0, 1, :] * K.transpose(2,3)[0, 0, :, 1]), S[0, 0, 1, 1])"
   ]
  },
  {
   "cell_type": "code",
   "execution_count": 20,
   "metadata": {},
   "outputs": [
    {
     "name": "stdout",
     "output_type": "stream",
     "text": [
      "torch.Size([1, 1, 3, 3])\n",
      "tensor([[[[0.1, 0.1, 0.2, 0.2],\n",
      "          [0.3, 0.4, 0.4, 0.5],\n",
      "          [1.1, 1.3, 1.5, 1.7]]]], dtype=torch.float64)\n"
     ]
    }
   ],
   "source": [
    "def ref_attention(Q, K, V):\n",
    "    # B, C, SEQ_LEN, D_HEAD\n",
    "    S = torch.matmul(Q, K.transpose(2, 3))\n",
    "    # (3, 2, SEQ_LEN, SEQ_LEN)\n",
    "    print(S.shape)\n",
    "    # Compute softmax for each row of S\n",
    "    P = torch.softmax(S, dim=2)\n",
    "    O =  torch.matmul(P, V)\n",
    "    return O\n",
    "\n",
    "ref = ref_attention(Q.clone(), K.clone(), V.clone())\n",
    "print(ref)"
   ]
  },
  {
   "cell_type": "code",
   "execution_count": 1,
   "metadata": {},
   "outputs": [
    {
     "name": "stderr",
     "output_type": "stream",
     "text": [
      "/home/f.mom/sync/.pyenv/versions/3.9.12/envs/env-flash-attention-numba/lib/python3.9/site-packages/tqdm/auto.py:21: TqdmWarning: IProgress not found. Please update jupyter and ipywidgets. See https://ipywidgets.readthedocs.io/en/stable/user_install.html\n",
      "  from .autonotebook import tqdm as notebook_tqdm\n"
     ]
    }
   ],
   "source": [
    "import torch\n",
    "\n",
    "seq_len = 4\n",
    "d_head = 4\n",
    "\n",
    "Q = (torch.arange(seq_len * d_head).reshape(seq_len, d_head) + 1.)  / 10\n",
    "K = (torch.arange(seq_len * d_head).reshape(seq_len, d_head) + 1.)  / 10\n",
    "V = (torch.arange(seq_len * d_head).reshape(seq_len, d_head) + 1.)  / 10\n"
   ]
  },
  {
   "cell_type": "code",
   "execution_count": 8,
   "metadata": {},
   "outputs": [
    {
     "data": {
      "text/plain": [
       "tensor([[0.1000, 0.2000, 0.3000, 0.4000],\n",
       "        [0.5000, 0.6000, 0.7000, 0.8000],\n",
       "        [0.9000, 1.0000, 1.1000, 1.2000],\n",
       "        [1.3000, 1.4000, 1.5000, 1.6000]])"
      ]
     },
     "execution_count": 8,
     "metadata": {},
     "output_type": "execute_result"
    }
   ],
   "source": [
    "Q"
   ]
  },
  {
   "cell_type": "code",
   "execution_count": 4,
   "metadata": {},
   "outputs": [
    {
     "data": {
      "text/plain": [
       "tensor([[2.8643, 2.9643, 3.0643, 3.1643, 3.2643, 3.3643],\n",
       "        [3.0797, 3.1797, 3.2797, 3.3797, 3.4797, 3.5797],\n",
       "        [3.0977, 3.1977, 3.2977, 3.3977, 3.4977, 3.5977],\n",
       "        [3.0997, 3.1997, 3.2997, 3.3997, 3.4997, 3.5997],\n",
       "        [3.1000, 3.2000, 3.3000, 3.4000, 3.5000, 3.6000],\n",
       "        [3.1000, 3.2000, 3.3000, 3.4000, 3.5000, 3.6000]])"
      ]
     },
     "execution_count": 4,
     "metadata": {},
     "output_type": "execute_result"
    }
   ],
   "source": [
    "torch.softmax(Q @ K.T, dim=1) @ V"
   ]
  },
  {
   "cell_type": "code",
   "execution_count": 5,
   "metadata": {},
   "outputs": [
    {
     "data": {
      "text/plain": [
       "tensor([0.0013, 0.0046, 0.0164, 0.0577, 0.2033, 0.7167])"
      ]
     },
     "execution_count": 5,
     "metadata": {},
     "output_type": "execute_result"
    }
   ],
   "source": [
    "torch.softmax(Q[0, :] @ K.T, dim=0)"
   ]
  },
  {
   "attachments": {},
   "cell_type": "markdown",
   "metadata": {},
   "source": [
    "# One-shot"
   ]
  },
  {
   "cell_type": "code",
   "execution_count": 6,
   "metadata": {},
   "outputs": [
    {
     "name": "stdout",
     "output_type": "stream",
     "text": [
      "====== tile_rowmax =======\n",
      "tensor([[1.2000],\n",
      "        [2.8000],\n",
      "        [4.4000],\n",
      "        [6.0000]])\n",
      "\n",
      "====== tile_numerator =======\n",
      "tensor([[0.7408, 0.8187, 0.9048, 1.0000],\n",
      "        [0.4584, 0.5945, 0.7711, 1.0000],\n",
      "        [0.2837, 0.4317, 0.6570, 1.0000],\n",
      "        [0.1755, 0.3135, 0.5599, 1.0000]])\n",
      "\n",
      "====== tile_denominator =======\n",
      "tensor([[3.4644],\n",
      "        [2.8240],\n",
      "        [2.3724],\n",
      "        [2.0489]])\n",
      "\n",
      "====== new_rowmax =======\n",
      "tensor([[1.2000],\n",
      "        [2.8000],\n",
      "        [4.4000],\n",
      "        [6.0000]])\n",
      "\n",
      "====== update_prev_exponent  =======\n",
      "tensor([[0.],\n",
      "        [0.],\n",
      "        [0.],\n",
      "        [0.]])\n",
      "====== new_denominator =======\n",
      "tensor([[3.4644],\n",
      "        [2.8240],\n",
      "        [2.3724],\n",
      "        [2.0489]])\n",
      "\n"
     ]
    }
   ],
   "source": [
    "seq_len = 4\n",
    "d_head = 4\n",
    "\n",
    "Q = (torch.arange(seq_len * d_head).reshape(seq_len, d_head) + 1.)  / 10\n",
    "K = (torch.arange(seq_len * d_head).reshape(seq_len, d_head) + 1.)  / 10\n",
    "V = (torch.arange(seq_len * d_head).reshape(seq_len, d_head) + 1.)  / 10\n",
    "O = torch.zeros((seq_len, d_head))\n",
    "\n",
    "\n",
    "m = torch.full((seq_len, 1), -torch.inf)\n",
    "l = torch.zeros((seq_len, 1))\n",
    "\n",
    "prev_rowmax = m  # shape Br x 1\n",
    "prev_denominator = l  # shape Br x 1\n",
    "\n",
    "# print(\"====== Q =======\")\n",
    "# print(Q)\n",
    "# print()\n",
    "\n",
    "# print(\"====== Sij =======\")\n",
    "Sij = Q @ K # TODO: I removed the transpose here to match GPU version \n",
    "# print(Sij)\n",
    "# print()\n",
    "\n",
    "print(\"====== tile_rowmax =======\")\n",
    "tile_rowmax = torch.max(Sij, dim=1).values[:, None]\n",
    "print(tile_rowmax)\n",
    "print()\n",
    "\n",
    "print(\"====== tile_numerator =======\")\n",
    "tile_numerator = torch.exp(Sij - tile_rowmax)\n",
    "print(tile_numerator)\n",
    "print()\n",
    "\n",
    "print(\"====== tile_denominator =======\")\n",
    "tile_denominator = torch.sum(tile_numerator, dim=1)[:, None]\n",
    "print(tile_denominator)\n",
    "print()\n",
    "\n",
    "print(\"====== new_rowmax =======\")\n",
    "new_rowmax = torch.max(torch.column_stack([prev_rowmax, tile_rowmax]), dim=1).values[:, None]\n",
    "print(new_rowmax)\n",
    "print()\n",
    "\n",
    "print(\"====== update_prev_exponent  =======\")\n",
    "update_prev_exponent = torch.exp(prev_rowmax - new_rowmax)\n",
    "print(update_prev_exponent)\n",
    "\n",
    "print(\"====== new_denominator =======\")\n",
    "new_denominator = prev_denominator * update_prev_exponent + torch.exp(tile_rowmax - new_rowmax) * tile_denominator\n",
    "print(new_denominator)\n",
    "print()\n",
    "\n",
    "# print(\"====== O =======\")\n",
    "# O = (li * torch.exp(mi - mi_new) * O / li_new) + (torch.exp(tile_rowmax - mi_new) * pij_hat / li_new) @ V\n",
    "# print(O)\n",
    "# print()\n"
   ]
  },
  {
   "cell_type": "code",
   "execution_count": 1,
   "metadata": {},
   "outputs": [
    {
     "data": {
      "text/plain": [
       "0.20754"
      ]
     },
     "execution_count": 1,
     "metadata": {},
     "output_type": "execute_result"
    }
   ],
   "source": [
    "0.2454 * 0.1 + 0.3660 * 0.5"
   ]
  },
  {
   "cell_type": "code",
   "execution_count": 20,
   "metadata": {},
   "outputs": [
    {
     "data": {
      "text/plain": [
       "0.0"
      ]
     },
     "execution_count": 20,
     "metadata": {},
     "output_type": "execute_result"
    }
   ],
   "source": [
    "import numpy as np\n",
    "np.exp(-float(\"inf\"))"
   ]
  },
  {
   "attachments": {},
   "cell_type": "markdown",
   "metadata": {},
   "source": [
    "# 2-shot on K"
   ]
  },
  {
   "cell_type": "code",
   "execution_count": 6,
   "metadata": {},
   "outputs": [
    {
     "name": "stdout",
     "output_type": "stream",
     "text": [
      "====== Q =======\n",
      "tensor([[0.1000, 0.2000, 0.3000, 0.4000],\n",
      "        [0.5000, 0.6000, 0.7000, 0.8000],\n",
      "        [0.9000, 1.0000, 1.1000, 1.2000],\n",
      "        [1.3000, 1.4000, 1.5000, 1.6000]])\n",
      "\n",
      "====== Sij =======\n",
      "tensor([[0.3000, 0.7000],\n",
      "        [0.7000, 1.7400],\n",
      "        [1.1000, 2.7800],\n",
      "        [1.5000, 3.8200]])\n",
      "\n",
      "====== mij_hat =======\n",
      "tensor([[0.7000],\n",
      "        [1.7400],\n",
      "        [2.7800],\n",
      "        [3.8200]])\n",
      "\n",
      "====== pij_hat =======\n",
      "tensor([[0.6703, 1.0000],\n",
      "        [0.3535, 1.0000],\n",
      "        [0.1864, 1.0000],\n",
      "        [0.0983, 1.0000]])\n",
      "\n",
      "====== lij_hat =======\n",
      "tensor([[1.6703],\n",
      "        [1.3535],\n",
      "        [1.1864],\n",
      "        [1.0983]])\n",
      "\n",
      "====== mi_new =======\n",
      "tensor([[0.7000],\n",
      "        [1.7400],\n",
      "        [2.7800],\n",
      "        [3.8200]])\n",
      "\n",
      "====== li_new =======\n",
      "tensor([[1.6703],\n",
      "        [1.3535],\n",
      "        [1.1864],\n",
      "        [1.0983]])\n",
      "\n",
      "====== O =======\n",
      "tensor([[0.3395, 0.4395, 0.5395, 0.6395],\n",
      "        [0.3955, 0.4955, 0.5955, 0.6955],\n",
      "        [0.4372, 0.5372, 0.6372, 0.7372],\n",
      "        [0.4642, 0.5642, 0.6642, 0.7642]])\n",
      "\n"
     ]
    }
   ],
   "source": [
    "seq_len = 4\n",
    "d_head = 4\n",
    "\n",
    "Q = (torch.arange(seq_len * d_head).reshape(seq_len, d_head) + 1.)  / 10\n",
    "K = (torch.arange(seq_len * d_head).reshape(seq_len, d_head) + 1.)  / 10\n",
    "V = (torch.arange(seq_len * d_head).reshape(seq_len, d_head) + 1.)  / 10\n",
    "O = torch.zeros((seq_len, d_head))\n",
    "\n",
    "\n",
    "m = torch.full((seq_len, 1), -torch.inf)\n",
    "l = torch.zeros((seq_len, 1))\n",
    "\n",
    "mi = m  # shape Br x 1\n",
    "li = l  # shape Br x 1\n",
    "\n",
    "# print(\"1st pass on K\")\n",
    "print(\"====== Q =======\")\n",
    "print(Q)\n",
    "print()\n",
    "\n",
    "print(\"====== Sij =======\")\n",
    "Sij = Q @ K[0:2, :].T\n",
    "print(Sij)\n",
    "print()\n",
    "\n",
    "print(\"====== mij_hat =======\")\n",
    "mij_hat = torch.max(Sij, dim=1).values[:, None]\n",
    "print(mij_hat)\n",
    "print()\n",
    "\n",
    "print(\"====== pij_hat =======\")\n",
    "pij_hat = torch.exp(Sij - mij_hat)\n",
    "print(pij_hat)\n",
    "print()\n",
    "\n",
    "print(\"====== lij_hat =======\")\n",
    "lij_hat = torch.sum(pij_hat, dim=1)[:, None]\n",
    "print(lij_hat)\n",
    "print()\n",
    "\n",
    "print(\"====== mi_new =======\")\n",
    "mi_new = torch.max(torch.column_stack([mi, mij_hat]), dim=1).values[:, None]\n",
    "print(mi_new)\n",
    "print()\n",
    "\n",
    "print(\"====== li_new =======\")\n",
    "li_new = torch.exp(mi - mi_new) * li + torch.exp(mij_hat - mi_new) * lij_hat\n",
    "print(li_new)\n",
    "print()\n",
    "\n",
    "print(\"====== O =======\")\n",
    "O = (li * torch.exp(mi - mi_new) * O / li_new) + (torch.exp(mij_hat - mi_new) * pij_hat / li_new) @ V[0:2, :]\n",
    "print(O)\n",
    "print()\n",
    "\n",
    "mi = mi_new\n"
   ]
  },
  {
   "cell_type": "code",
   "execution_count": 7,
   "metadata": {},
   "outputs": [
    {
     "name": "stdout",
     "output_type": "stream",
     "text": [
      "====== Q =======\n",
      "tensor([[0.1000, 0.2000, 0.3000, 0.4000],\n",
      "        [0.5000, 0.6000, 0.7000, 0.8000],\n",
      "        [0.9000, 1.0000, 1.1000, 1.2000],\n",
      "        [1.3000, 1.4000, 1.5000, 1.6000]])\n",
      "\n",
      "====== Sij =======\n",
      "tensor([[1.1000, 1.5000],\n",
      "        [2.7800, 3.8200],\n",
      "        [4.4600, 6.1400],\n",
      "        [6.1400, 8.4600]])\n",
      "\n",
      "====== mij_hat =======\n",
      "tensor([[1.5000],\n",
      "        [3.8200],\n",
      "        [6.1400],\n",
      "        [8.4600]])\n",
      "\n",
      "====== pij_hat =======\n",
      "tensor([[0.6703, 1.0000],\n",
      "        [0.3535, 1.0000],\n",
      "        [0.1864, 1.0000],\n",
      "        [0.0983, 1.0000]])\n",
      "\n",
      "====== lij_hat =======\n",
      "tensor([[1.6703],\n",
      "        [1.3535],\n",
      "        [1.1864],\n",
      "        [1.0983]])\n",
      "\n",
      "====== mi_new =======\n",
      "tensor([[1.5000],\n",
      "        [3.8200],\n",
      "        [6.1400],\n",
      "        [8.4600]])\n",
      "\n",
      "====== li_new =======\n",
      "tensor([[1.6703],\n",
      "        [1.3535],\n",
      "        [1.1864],\n",
      "        [1.0983]])\n",
      "\n",
      "====== O =======\n",
      "tensor([[1.1395, 1.2395, 1.3395, 1.4395],\n",
      "        [1.1955, 1.2955, 1.3955, 1.4955],\n",
      "        [1.2372, 1.3372, 1.4372, 1.5372],\n",
      "        [1.2642, 1.3642, 1.4642, 1.5642]])\n",
      "\n"
     ]
    }
   ],
   "source": [
    "# print(\"2nd pass on K\")\n",
    "print(\"====== Q =======\")\n",
    "print(Q)\n",
    "print()\n",
    "\n",
    "print(\"====== Sij =======\")\n",
    "Sij = Q @ K[2:4, :].T\n",
    "print(Sij)\n",
    "print()\n",
    "\n",
    "print(\"====== mij_hat =======\")\n",
    "mij_hat = torch.max(Sij, dim=1).values[:, None]\n",
    "print(mij_hat)\n",
    "print()\n",
    "\n",
    "print(\"====== pij_hat =======\")\n",
    "pij_hat = torch.exp(Sij - mij_hat)\n",
    "print(pij_hat)\n",
    "print()\n",
    "\n",
    "print(\"====== lij_hat =======\")\n",
    "lij_hat = torch.sum(pij_hat, dim=1)[:, None]\n",
    "print(lij_hat)\n",
    "print()\n",
    "\n",
    "print(\"====== mi_new =======\")\n",
    "mi_new = torch.max(torch.column_stack([mi, mij_hat]), dim=1).values[:, None]\n",
    "print(mi_new)\n",
    "print()\n",
    "\n",
    "print(\"====== li_new =======\")\n",
    "li_new = torch.exp(mi - mi_new) * li + torch.exp(mij_hat - mi_new) * lij_hat\n",
    "print(li_new)\n",
    "print()\n",
    "\n",
    "print(\"====== O =======\")\n",
    "O = (li * torch.exp(mi - mi_new) * O / li_new) + (torch.exp(mij_hat - mi_new) * pij_hat / li_new) @ V[2:4, :]\n",
    "print(O)\n",
    "print()"
   ]
  },
  {
   "cell_type": "code",
   "execution_count": 8,
   "metadata": {},
   "outputs": [
    {
     "name": "stdout",
     "output_type": "stream",
     "text": [
      "tensor([[0.],\n",
      "        [0.],\n",
      "        [0.],\n",
      "        [0.]])\n",
      "tensor([[1.6703],\n",
      "        [1.3535],\n",
      "        [1.1864],\n",
      "        [1.0983]])\n",
      "tensor([[1.6703],\n",
      "        [1.3535],\n",
      "        [1.1864],\n",
      "        [1.0983]])\n"
     ]
    }
   ],
   "source": [
    "print(torch.exp(mi - mi_new) * li)\n",
    "print(torch.exp(mij_hat - mi_new) * lij_hat)\n",
    "print(li_new)"
   ]
  },
  {
   "cell_type": "code",
   "execution_count": 9,
   "metadata": {},
   "outputs": [
    {
     "data": {
      "text/plain": [
       "2.4208"
      ]
     },
     "execution_count": 9,
     "metadata": {},
     "output_type": "execute_result"
    }
   ],
   "source": [
    "1.6703 + 0.7505"
   ]
  },
  {
   "cell_type": "code",
   "execution_count": 10,
   "metadata": {},
   "outputs": [
    {
     "ename": "NameError",
     "evalue": "name 'tensor' is not defined",
     "output_type": "error",
     "traceback": [
      "\u001b[0;31m---------------------------------------------------------------------------\u001b[0m",
      "\u001b[0;31mNameError\u001b[0m                                 Traceback (most recent call last)",
      "Cell \u001b[0;32mIn[10], line 1\u001b[0m\n\u001b[0;32m----> 1\u001b[0m tensor([[\u001b[39m0.8915\u001b[39m, \u001b[39m0.9915\u001b[39m, \u001b[39m1.0915\u001b[39m, \u001b[39m1.1915\u001b[39m],\n\u001b[1;32m      2\u001b[0m         [\u001b[39m1.1067\u001b[39m, \u001b[39m1.2067\u001b[39m, \u001b[39m1.3067\u001b[39m, \u001b[39m1.4067\u001b[39m],\n\u001b[1;32m      3\u001b[0m         [\u001b[39m1.2103\u001b[39m, \u001b[39m1.3103\u001b[39m, \u001b[39m1.4103\u001b[39m, \u001b[39m1.5103\u001b[39m],\n\u001b[1;32m      4\u001b[0m         [\u001b[39m1.2566\u001b[39m, \u001b[39m1.3566\u001b[39m, \u001b[39m1.4566\u001b[39m, \u001b[39m1.5566\u001b[39m]])\n",
      "\u001b[0;31mNameError\u001b[0m: name 'tensor' is not defined"
     ]
    }
   ],
   "source": [
    "tensor([[0.8915, 0.9915, 1.0915, 1.1915],\n",
    "        [1.1067, 1.2067, 1.3067, 1.4067],\n",
    "        [1.2103, 1.3103, 1.4103, 1.5103],\n",
    "        [1.2566, 1.3566, 1.4566, 1.5566]])"
   ]
  },
  {
   "attachments": {},
   "cell_type": "markdown",
   "metadata": {},
   "source": [
    "# Softmax\n",
    "\n",
    "> https://arxiv.org/pdf/1805.02867.pdf"
   ]
  },
  {
   "cell_type": "code",
   "execution_count": null,
   "metadata": {},
   "outputs": [],
   "source": [
    "torch.manual_seed(0)\n",
    "\n",
    "x = torch.arange(10, dtype=torch.float32)\n",
    "x"
   ]
  },
  {
   "cell_type": "code",
   "execution_count": null,
   "metadata": {},
   "outputs": [],
   "source": [
    "def naive_softmax(vec):\n",
    "   return torch.exp(vec) / torch.sum(torch.exp(vec))\n",
    "\n",
    "torch.allclose(torch.softmax(x.clone(), dim=0), naive_softmax(x.clone()))"
   ]
  },
  {
   "cell_type": "code",
   "execution_count": null,
   "metadata": {},
   "outputs": [],
   "source": [
    "def safe_softmax(vec):\n",
    "    # Compute row max in 1st pass\n",
    "    row_max = torch.max(vec)\n",
    "    # Compute denominator in 2nd pass\n",
    "    denominator = torch.sum(torch.exp(vec - row_max))\n",
    "    return torch.exp(vec - row_max) / denominator\n",
    "\n",
    "\n",
    "torch.allclose(torch.softmax(x.clone(), dim=0), safe_softmax(x.clone()))"
   ]
  },
  {
   "cell_type": "code",
   "execution_count": null,
   "metadata": {},
   "outputs": [],
   "source": [
    "#TODO: Cf goodnotes ipad \"Flash attention   \"\n",
    "\n",
    "def online_softmax(vec):\n",
    "    N = len(vec)\n",
    "    rowmax = -float(\"inf\")\n",
    "    denominator = 0\n",
    "    # Compute the max and denominator in single pass\n",
    "    for i in range(N):\n",
    "        prev_rowmax = rowmax\n",
    "        rowmax = max(prev_rowmax, vec[i])\n",
    "        denominator = denominator * torch.exp(prev_rowmax - rowmax) + torch.exp(vec[i] - rowmax)\n",
    "        print(f\"prev_rowmax = {prev_rowmax} | rowmax = {rowmax} | denominator = {denominator}\")\n",
    "\n",
    "    print(torch.exp(vec - rowmax))\n",
    "    print(denominator)\n",
    "    return torch.exp(vec - rowmax) / denominator\n",
    "\n",
    "torch.allclose(torch.softmax(x.clone(), dim=0), online_softmax(x.clone()))"
   ]
  },
  {
   "cell_type": "code",
   "execution_count": null,
   "metadata": {},
   "outputs": [],
   "source": [
    "print(x)"
   ]
  },
  {
   "cell_type": "code",
   "execution_count": null,
   "metadata": {},
   "outputs": [],
   "source": [
    "online_softmax(x.clone())"
   ]
  },
  {
   "cell_type": "code",
   "execution_count": null,
   "metadata": {},
   "outputs": [],
   "source": [
    "torch.exp(x - torch.max(x))"
   ]
  },
  {
   "cell_type": "code",
   "execution_count": null,
   "metadata": {},
   "outputs": [],
   "source": [
    "torch.sum(torch.exp(x - torch.max(x)))"
   ]
  },
  {
   "cell_type": "code",
   "execution_count": null,
   "metadata": {},
   "outputs": [],
   "source": [
    "torch.exp(x - torch.max(x)) / torch.sum(torch.exp(x - torch.max(x)))"
   ]
  },
  {
   "cell_type": "code",
   "execution_count": null,
   "metadata": {},
   "outputs": [],
   "source": []
  }
 ],
 "metadata": {
  "kernelspec": {
   "display_name": "env-flash-attention",
   "language": "python",
   "name": "python3"
  },
  "language_info": {
   "codemirror_mode": {
    "name": "ipython",
    "version": 3
   },
   "file_extension": ".py",
   "mimetype": "text/x-python",
   "name": "python",
   "nbconvert_exporter": "python",
   "pygments_lexer": "ipython3",
   "version": "3.9.12"
  },
  "orig_nbformat": 4
 },
 "nbformat": 4,
 "nbformat_minor": 2
}
