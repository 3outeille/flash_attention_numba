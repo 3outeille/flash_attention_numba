{
 "cells": [
  {
   "cell_type": "code",
   "execution_count": 1,
   "metadata": {},
   "outputs": [],
   "source": [
    "import torch\n",
    "\n",
    "seq_len = 6\n",
    "d_head = 6\n",
    "\n",
    "Q = (torch.arange(seq_len * d_head).reshape(seq_len, d_head) + 1.)  / 10\n",
    "K = (torch.arange(seq_len * d_head).reshape(seq_len, d_head) + 1.)  / 10\n",
    "V = (torch.arange(seq_len * d_head).reshape(seq_len, d_head) + 1.)  / 10\n"
   ]
  },
  {
   "cell_type": "code",
   "execution_count": 2,
   "metadata": {},
   "outputs": [
    {
     "data": {
      "text/plain": [
       "tensor([[0.1000, 0.2000, 0.3000, 0.4000, 0.5000, 0.6000],\n",
       "        [0.7000, 0.8000, 0.9000, 1.0000, 1.1000, 1.2000],\n",
       "        [1.3000, 1.4000, 1.5000, 1.6000, 1.7000, 1.8000],\n",
       "        [1.9000, 2.0000, 2.1000, 2.2000, 2.3000, 2.4000],\n",
       "        [2.5000, 2.6000, 2.7000, 2.8000, 2.9000, 3.0000],\n",
       "        [3.1000, 3.2000, 3.3000, 3.4000, 3.5000, 3.6000]])"
      ]
     },
     "execution_count": 2,
     "metadata": {},
     "output_type": "execute_result"
    }
   ],
   "source": [
    "Q"
   ]
  },
  {
   "cell_type": "code",
   "execution_count": 3,
   "metadata": {},
   "outputs": [
    {
     "data": {
      "text/plain": [
       "tensor([[2.8643, 2.9643, 3.0643, 3.1643, 3.2643, 3.3643],\n",
       "        [3.0797, 3.1797, 3.2797, 3.3797, 3.4797, 3.5797],\n",
       "        [3.0977, 3.1977, 3.2977, 3.3977, 3.4977, 3.5977],\n",
       "        [3.0997, 3.1997, 3.2997, 3.3997, 3.4997, 3.5997],\n",
       "        [3.1000, 3.2000, 3.3000, 3.4000, 3.5000, 3.6000],\n",
       "        [3.1000, 3.2000, 3.3000, 3.4000, 3.5000, 3.6000]])"
      ]
     },
     "execution_count": 3,
     "metadata": {},
     "output_type": "execute_result"
    }
   ],
   "source": [
    "torch.softmax(Q @ K.T, dim=1) @ V"
   ]
  },
  {
   "cell_type": "code",
   "execution_count": 4,
   "metadata": {},
   "outputs": [
    {
     "data": {
      "text/plain": [
       "tensor([0.0013, 0.0046, 0.0164, 0.0577, 0.2033, 0.7167])"
      ]
     },
     "execution_count": 4,
     "metadata": {},
     "output_type": "execute_result"
    }
   ],
   "source": [
    "torch.softmax(Q[0, :] @ K.T, dim=0)"
   ]
  },
  {
   "attachments": {},
   "cell_type": "markdown",
   "metadata": {},
   "source": [
    "# One-shot"
   ]
  },
  {
   "cell_type": "code",
   "execution_count": 6,
   "metadata": {},
   "outputs": [
    {
     "name": "stdout",
     "output_type": "stream",
     "text": [
      "====== tile_numerator =======\n",
      "tensor([[0.7408, 0.8187, 0.9048, 1.0000],\n",
      "        [0.4584, 0.5945, 0.7711, 1.0000],\n",
      "        [0.2837, 0.4317, 0.6570, 1.0000],\n",
      "        [0.1755, 0.3135, 0.5599, 1.0000]])\n",
      "\n",
      "====== tile_denominator =======\n",
      "tensor([[3.4644],\n",
      "        [2.8240],\n",
      "        [2.3724],\n",
      "        [2.0489]])\n",
      "\n",
      "====== new_rowmax =======\n",
      "tensor([[1.2000],\n",
      "        [2.8000],\n",
      "        [4.4000],\n",
      "        [6.0000]])\n",
      "\n",
      "====== update_prev_exponent  =======\n",
      "tensor([[0.],\n",
      "        [0.],\n",
      "        [0.],\n",
      "        [0.]])\n",
      "====== new_denominator =======\n",
      "tensor([[3.4644],\n",
      "        [2.8240],\n",
      "        [2.3724],\n",
      "        [2.0489]])\n",
      "\n"
     ]
    }
   ],
   "source": [
    "seq_len = 4\n",
    "d_head = 4\n",
    "\n",
    "Q = (torch.arange(seq_len * d_head).reshape(seq_len, d_head) + 1.)  / 10\n",
    "K = (torch.arange(seq_len * d_head).reshape(seq_len, d_head) + 1.)  / 10\n",
    "V = (torch.arange(seq_len * d_head).reshape(seq_len, d_head) + 1.)  / 10\n",
    "O = torch.zeros((seq_len, d_head))\n",
    "\n",
    "\n",
    "m = torch.full((seq_len, 1), -torch.inf)\n",
    "l = torch.zeros((seq_len, 1))\n",
    "\n",
    "prev_rowmax = m  # shape Br x 1\n",
    "prev_denominator = l  # shape Br x 1\n",
    "\n",
    "# print(\"====== Q =======\")\n",
    "# print(Q)\n",
    "# print()\n",
    "\n",
    "# print(\"====== Sij =======\")\n",
    "Sij = Q @ K # TODO: I removed the transpose here to match GPU version \n",
    "# print(Sij)\n",
    "# print()\n",
    "\n",
    "# print(\"====== tile_rowmax =======\")\n",
    "tile_rowmax = torch.max(Sij, dim=1).values[:, None]\n",
    "# print(tile_rowmax)\n",
    "# print()\n",
    "\n",
    "print(\"====== tile_numerator =======\")\n",
    "tile_numerator = torch.exp(Sij - tile_rowmax)\n",
    "print(tile_numerator)\n",
    "print()\n",
    "\n",
    "print(\"====== tile_denominator =======\")\n",
    "tile_denominator = torch.sum(tile_numerator, dim=1)[:, None]\n",
    "print(tile_denominator)\n",
    "print()\n",
    "\n",
    "print(\"====== new_rowmax =======\")\n",
    "new_rowmax = torch.max(torch.column_stack([prev_rowmax, tile_rowmax]), dim=1).values[:, None]\n",
    "print(new_rowmax)\n",
    "print()\n",
    "\n",
    "print(\"====== update_prev_exponent  =======\")\n",
    "update_prev_exponent = torch.exp(prev_rowmax - new_rowmax)\n",
    "print(update_prev_exponent)\n",
    "\n",
    "print(\"====== new_denominator =======\")\n",
    "new_denominator = prev_denominator * update_prev_exponent + torch.exp(tile_rowmax - new_rowmax) * tile_denominator\n",
    "print(new_denominator)\n",
    "print()\n",
    "\n",
    "# print(\"====== O =======\")\n",
    "# O = (li * torch.exp(mi - mi_new) * O / li_new) + (torch.exp(tile_rowmax - mi_new) * pij_hat / li_new) @ V\n",
    "# print(O)\n",
    "# print()\n"
   ]
  },
  {
   "cell_type": "code",
   "execution_count": 20,
   "metadata": {},
   "outputs": [
    {
     "data": {
      "text/plain": [
       "0.0"
      ]
     },
     "execution_count": 20,
     "metadata": {},
     "output_type": "execute_result"
    }
   ],
   "source": [
    "import numpy as np\n",
    "np.exp(-float(\"inf\"))"
   ]
  },
  {
   "attachments": {},
   "cell_type": "markdown",
   "metadata": {},
   "source": [
    "# 2-shot on K"
   ]
  },
  {
   "cell_type": "code",
   "execution_count": 6,
   "metadata": {},
   "outputs": [
    {
     "name": "stdout",
     "output_type": "stream",
     "text": [
      "====== Q =======\n",
      "tensor([[0.1000, 0.2000, 0.3000, 0.4000],\n",
      "        [0.5000, 0.6000, 0.7000, 0.8000],\n",
      "        [0.9000, 1.0000, 1.1000, 1.2000],\n",
      "        [1.3000, 1.4000, 1.5000, 1.6000]])\n",
      "\n",
      "====== Sij =======\n",
      "tensor([[0.3000, 0.7000],\n",
      "        [0.7000, 1.7400],\n",
      "        [1.1000, 2.7800],\n",
      "        [1.5000, 3.8200]])\n",
      "\n",
      "====== mij_hat =======\n",
      "tensor([[0.7000],\n",
      "        [1.7400],\n",
      "        [2.7800],\n",
      "        [3.8200]])\n",
      "\n",
      "====== pij_hat =======\n",
      "tensor([[0.6703, 1.0000],\n",
      "        [0.3535, 1.0000],\n",
      "        [0.1864, 1.0000],\n",
      "        [0.0983, 1.0000]])\n",
      "\n",
      "====== lij_hat =======\n",
      "tensor([[1.6703],\n",
      "        [1.3535],\n",
      "        [1.1864],\n",
      "        [1.0983]])\n",
      "\n",
      "====== mi_new =======\n",
      "tensor([[0.7000],\n",
      "        [1.7400],\n",
      "        [2.7800],\n",
      "        [3.8200]])\n",
      "\n",
      "====== li_new =======\n",
      "tensor([[1.6703],\n",
      "        [1.3535],\n",
      "        [1.1864],\n",
      "        [1.0983]])\n",
      "\n",
      "====== O =======\n",
      "tensor([[0.3395, 0.4395, 0.5395, 0.6395],\n",
      "        [0.3955, 0.4955, 0.5955, 0.6955],\n",
      "        [0.4372, 0.5372, 0.6372, 0.7372],\n",
      "        [0.4642, 0.5642, 0.6642, 0.7642]])\n",
      "\n"
     ]
    }
   ],
   "source": [
    "seq_len = 4\n",
    "d_head = 4\n",
    "\n",
    "Q = (torch.arange(seq_len * d_head).reshape(seq_len, d_head) + 1.)  / 10\n",
    "K = (torch.arange(seq_len * d_head).reshape(seq_len, d_head) + 1.)  / 10\n",
    "V = (torch.arange(seq_len * d_head).reshape(seq_len, d_head) + 1.)  / 10\n",
    "O = torch.zeros((seq_len, d_head))\n",
    "\n",
    "\n",
    "m = torch.full((seq_len, 1), -torch.inf)\n",
    "l = torch.zeros((seq_len, 1))\n",
    "\n",
    "mi = m  # shape Br x 1\n",
    "li = l  # shape Br x 1\n",
    "\n",
    "# print(\"1st pass on K\")\n",
    "print(\"====== Q =======\")\n",
    "print(Q)\n",
    "print()\n",
    "\n",
    "print(\"====== Sij =======\")\n",
    "Sij = Q @ K[0:2, :].T\n",
    "print(Sij)\n",
    "print()\n",
    "\n",
    "print(\"====== mij_hat =======\")\n",
    "mij_hat = torch.max(Sij, dim=1).values[:, None]\n",
    "print(mij_hat)\n",
    "print()\n",
    "\n",
    "print(\"====== pij_hat =======\")\n",
    "pij_hat = torch.exp(Sij - mij_hat)\n",
    "print(pij_hat)\n",
    "print()\n",
    "\n",
    "print(\"====== lij_hat =======\")\n",
    "lij_hat = torch.sum(pij_hat, dim=1)[:, None]\n",
    "print(lij_hat)\n",
    "print()\n",
    "\n",
    "print(\"====== mi_new =======\")\n",
    "mi_new = torch.max(torch.column_stack([mi, mij_hat]), dim=1).values[:, None]\n",
    "print(mi_new)\n",
    "print()\n",
    "\n",
    "print(\"====== li_new =======\")\n",
    "li_new = torch.exp(mi - mi_new) * li + torch.exp(mij_hat - mi_new) * lij_hat\n",
    "print(li_new)\n",
    "print()\n",
    "\n",
    "print(\"====== O =======\")\n",
    "O = (li * torch.exp(mi - mi_new) * O / li_new) + (torch.exp(mij_hat - mi_new) * pij_hat / li_new) @ V[0:2, :]\n",
    "print(O)\n",
    "print()\n",
    "\n",
    "mi = mi_new\n"
   ]
  },
  {
   "cell_type": "code",
   "execution_count": 7,
   "metadata": {},
   "outputs": [
    {
     "name": "stdout",
     "output_type": "stream",
     "text": [
      "====== Q =======\n",
      "tensor([[0.1000, 0.2000, 0.3000, 0.4000],\n",
      "        [0.5000, 0.6000, 0.7000, 0.8000],\n",
      "        [0.9000, 1.0000, 1.1000, 1.2000],\n",
      "        [1.3000, 1.4000, 1.5000, 1.6000]])\n",
      "\n",
      "====== Sij =======\n",
      "tensor([[1.1000, 1.5000],\n",
      "        [2.7800, 3.8200],\n",
      "        [4.4600, 6.1400],\n",
      "        [6.1400, 8.4600]])\n",
      "\n",
      "====== mij_hat =======\n",
      "tensor([[1.5000],\n",
      "        [3.8200],\n",
      "        [6.1400],\n",
      "        [8.4600]])\n",
      "\n",
      "====== pij_hat =======\n",
      "tensor([[0.6703, 1.0000],\n",
      "        [0.3535, 1.0000],\n",
      "        [0.1864, 1.0000],\n",
      "        [0.0983, 1.0000]])\n",
      "\n",
      "====== lij_hat =======\n",
      "tensor([[1.6703],\n",
      "        [1.3535],\n",
      "        [1.1864],\n",
      "        [1.0983]])\n",
      "\n",
      "====== mi_new =======\n",
      "tensor([[1.5000],\n",
      "        [3.8200],\n",
      "        [6.1400],\n",
      "        [8.4600]])\n",
      "\n",
      "====== li_new =======\n",
      "tensor([[1.6703],\n",
      "        [1.3535],\n",
      "        [1.1864],\n",
      "        [1.0983]])\n",
      "\n",
      "====== O =======\n",
      "tensor([[1.1395, 1.2395, 1.3395, 1.4395],\n",
      "        [1.1955, 1.2955, 1.3955, 1.4955],\n",
      "        [1.2372, 1.3372, 1.4372, 1.5372],\n",
      "        [1.2642, 1.3642, 1.4642, 1.5642]])\n",
      "\n"
     ]
    }
   ],
   "source": [
    "# print(\"2nd pass on K\")\n",
    "print(\"====== Q =======\")\n",
    "print(Q)\n",
    "print()\n",
    "\n",
    "print(\"====== Sij =======\")\n",
    "Sij = Q @ K[2:4, :].T\n",
    "print(Sij)\n",
    "print()\n",
    "\n",
    "print(\"====== mij_hat =======\")\n",
    "mij_hat = torch.max(Sij, dim=1).values[:, None]\n",
    "print(mij_hat)\n",
    "print()\n",
    "\n",
    "print(\"====== pij_hat =======\")\n",
    "pij_hat = torch.exp(Sij - mij_hat)\n",
    "print(pij_hat)\n",
    "print()\n",
    "\n",
    "print(\"====== lij_hat =======\")\n",
    "lij_hat = torch.sum(pij_hat, dim=1)[:, None]\n",
    "print(lij_hat)\n",
    "print()\n",
    "\n",
    "print(\"====== mi_new =======\")\n",
    "mi_new = torch.max(torch.column_stack([mi, mij_hat]), dim=1).values[:, None]\n",
    "print(mi_new)\n",
    "print()\n",
    "\n",
    "print(\"====== li_new =======\")\n",
    "li_new = torch.exp(mi - mi_new) * li + torch.exp(mij_hat - mi_new) * lij_hat\n",
    "print(li_new)\n",
    "print()\n",
    "\n",
    "print(\"====== O =======\")\n",
    "O = (li * torch.exp(mi - mi_new) * O / li_new) + (torch.exp(mij_hat - mi_new) * pij_hat / li_new) @ V[2:4, :]\n",
    "print(O)\n",
    "print()"
   ]
  },
  {
   "cell_type": "code",
   "execution_count": 8,
   "metadata": {},
   "outputs": [
    {
     "name": "stdout",
     "output_type": "stream",
     "text": [
      "tensor([[0.],\n",
      "        [0.],\n",
      "        [0.],\n",
      "        [0.]])\n",
      "tensor([[1.6703],\n",
      "        [1.3535],\n",
      "        [1.1864],\n",
      "        [1.0983]])\n",
      "tensor([[1.6703],\n",
      "        [1.3535],\n",
      "        [1.1864],\n",
      "        [1.0983]])\n"
     ]
    }
   ],
   "source": [
    "print(torch.exp(mi - mi_new) * li)\n",
    "print(torch.exp(mij_hat - mi_new) * lij_hat)\n",
    "print(li_new)"
   ]
  },
  {
   "cell_type": "code",
   "execution_count": 9,
   "metadata": {},
   "outputs": [
    {
     "data": {
      "text/plain": [
       "2.4208"
      ]
     },
     "execution_count": 9,
     "metadata": {},
     "output_type": "execute_result"
    }
   ],
   "source": [
    "1.6703 + 0.7505"
   ]
  },
  {
   "cell_type": "code",
   "execution_count": 10,
   "metadata": {},
   "outputs": [
    {
     "ename": "NameError",
     "evalue": "name 'tensor' is not defined",
     "output_type": "error",
     "traceback": [
      "\u001b[0;31m---------------------------------------------------------------------------\u001b[0m",
      "\u001b[0;31mNameError\u001b[0m                                 Traceback (most recent call last)",
      "Cell \u001b[0;32mIn[10], line 1\u001b[0m\n\u001b[0;32m----> 1\u001b[0m tensor([[\u001b[39m0.8915\u001b[39m, \u001b[39m0.9915\u001b[39m, \u001b[39m1.0915\u001b[39m, \u001b[39m1.1915\u001b[39m],\n\u001b[1;32m      2\u001b[0m         [\u001b[39m1.1067\u001b[39m, \u001b[39m1.2067\u001b[39m, \u001b[39m1.3067\u001b[39m, \u001b[39m1.4067\u001b[39m],\n\u001b[1;32m      3\u001b[0m         [\u001b[39m1.2103\u001b[39m, \u001b[39m1.3103\u001b[39m, \u001b[39m1.4103\u001b[39m, \u001b[39m1.5103\u001b[39m],\n\u001b[1;32m      4\u001b[0m         [\u001b[39m1.2566\u001b[39m, \u001b[39m1.3566\u001b[39m, \u001b[39m1.4566\u001b[39m, \u001b[39m1.5566\u001b[39m]])\n",
      "\u001b[0;31mNameError\u001b[0m: name 'tensor' is not defined"
     ]
    }
   ],
   "source": [
    "tensor([[0.8915, 0.9915, 1.0915, 1.1915],\n",
    "        [1.1067, 1.2067, 1.3067, 1.4067],\n",
    "        [1.2103, 1.3103, 1.4103, 1.5103],\n",
    "        [1.2566, 1.3566, 1.4566, 1.5566]])"
   ]
  },
  {
   "attachments": {},
   "cell_type": "markdown",
   "metadata": {},
   "source": [
    "# Softmax\n",
    "\n",
    "> https://arxiv.org/pdf/1805.02867.pdf"
   ]
  },
  {
   "cell_type": "code",
   "execution_count": null,
   "metadata": {},
   "outputs": [],
   "source": [
    "torch.manual_seed(0)\n",
    "\n",
    "x = torch.arange(10, dtype=torch.float32)\n",
    "x"
   ]
  },
  {
   "cell_type": "code",
   "execution_count": null,
   "metadata": {},
   "outputs": [],
   "source": [
    "def naive_softmax(vec):\n",
    "   return torch.exp(vec) / torch.sum(torch.exp(vec))\n",
    "\n",
    "torch.allclose(torch.softmax(x.clone(), dim=0), naive_softmax(x.clone()))"
   ]
  },
  {
   "cell_type": "code",
   "execution_count": null,
   "metadata": {},
   "outputs": [],
   "source": [
    "def safe_softmax(vec):\n",
    "    # Compute row max in 1st pass\n",
    "    row_max = torch.max(vec)\n",
    "    # Compute denominator in 2nd pass\n",
    "    denominator = torch.sum(torch.exp(vec - row_max))\n",
    "    return torch.exp(vec - row_max) / denominator\n",
    "\n",
    "\n",
    "torch.allclose(torch.softmax(x.clone(), dim=0), safe_softmax(x.clone()))"
   ]
  },
  {
   "cell_type": "code",
   "execution_count": null,
   "metadata": {},
   "outputs": [],
   "source": [
    "#TODO: Cf goodnotes ipad \"Flash attention   \"\n",
    "\n",
    "def online_softmax(vec):\n",
    "    N = len(vec)\n",
    "    rowmax = -float(\"inf\")\n",
    "    denominator = 0\n",
    "    # Compute the max and denominator in single pass\n",
    "    for i in range(N):\n",
    "        prev_rowmax = rowmax\n",
    "        rowmax = max(prev_rowmax, vec[i])\n",
    "        denominator = denominator * torch.exp(prev_rowmax - rowmax) + torch.exp(vec[i] - rowmax)\n",
    "        print(f\"prev_rowmax = {prev_rowmax} | rowmax = {rowmax} | denominator = {denominator}\")\n",
    "\n",
    "    print(torch.exp(vec - rowmax))\n",
    "    print(denominator)\n",
    "    return torch.exp(vec - rowmax) / denominator\n",
    "\n",
    "torch.allclose(torch.softmax(x.clone(), dim=0), online_softmax(x.clone()))"
   ]
  },
  {
   "cell_type": "code",
   "execution_count": null,
   "metadata": {},
   "outputs": [],
   "source": [
    "print(x)"
   ]
  },
  {
   "cell_type": "code",
   "execution_count": null,
   "metadata": {},
   "outputs": [],
   "source": [
    "online_softmax(x.clone())"
   ]
  },
  {
   "cell_type": "code",
   "execution_count": null,
   "metadata": {},
   "outputs": [],
   "source": [
    "torch.exp(x - torch.max(x))"
   ]
  },
  {
   "cell_type": "code",
   "execution_count": null,
   "metadata": {},
   "outputs": [],
   "source": [
    "torch.sum(torch.exp(x - torch.max(x)))"
   ]
  },
  {
   "cell_type": "code",
   "execution_count": null,
   "metadata": {},
   "outputs": [],
   "source": [
    "torch.exp(x - torch.max(x)) / torch.sum(torch.exp(x - torch.max(x)))"
   ]
  },
  {
   "cell_type": "code",
   "execution_count": null,
   "metadata": {},
   "outputs": [],
   "source": []
  }
 ],
 "metadata": {
  "kernelspec": {
   "display_name": "env-flash-attention",
   "language": "python",
   "name": "python3"
  },
  "language_info": {
   "codemirror_mode": {
    "name": "ipython",
    "version": 3
   },
   "file_extension": ".py",
   "mimetype": "text/x-python",
   "name": "python",
   "nbconvert_exporter": "python",
   "pygments_lexer": "ipython3",
   "version": "3.9.12"
  },
  "orig_nbformat": 4
 },
 "nbformat": 4,
 "nbformat_minor": 2
}
