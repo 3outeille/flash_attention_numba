{
 "cells": [
  {
   "cell_type": "code",
   "execution_count": 1,
   "metadata": {},
   "outputs": [
    {
     "name": "stdout",
     "output_type": "stream",
     "text": [
      "Shared memory per multiprocessor: 98304 bytes\n",
      "Shared memory per block: 49152 bytes\n",
      "Registers per block: 65536\n",
      "Threads per block: 1024\n",
      "Number of multiprocessors: 80\n"
     ]
    }
   ],
   "source": [
    "from numba import cuda\n",
    "\n",
    "device = cuda.get_current_device()\n",
    "\n",
    "# https://docs.nvidia.com/cuda/cuda-runtime-api/group__CUDART__DEVICE.html\n",
    "print(f\"Shared memory per multiprocessor: {device.MAX_SHARED_MEMORY_PER_MULTIPROCESSOR} bytes\")\n",
    "print(f\"Shared memory per block: {device.MAX_SHARED_MEMORY_PER_BLOCK} bytes\")\n",
    "print(f\"Registers per block: {device.MAX_REGISTERS_PER_BLOCK}\")\n",
    "print(f\"Threads per block: {device.MAX_THREADS_PER_BLOCK}\")\n",
    "print(f\"Number of multiprocessors: {device.MULTIPROCESSOR_COUNT}\")"
   ]
  },
  {
   "cell_type": "code",
   "execution_count": 3,
   "metadata": {},
   "outputs": [
    {
     "name": "stdout",
     "output_type": "stream",
     "text": [
      "blockspergrid: (128, 32, 32), threadsperblock: (128, 1, 1), shared_memory_size: 134144\n"
     ]
    }
   ],
   "source": [
    "import math\n",
    "import torch\n",
    "\n",
    "sizeof = lambda x: torch.tensor(0, dtype=x).element_size()\n",
    "\n",
    "B, C, SEQ_LEN, D_HEAD = (32, 32, 128, 128)\n",
    "threadsperblock = (D_HEAD, 1, 1) # Should be max 1024\n",
    "blockspergrid = (math.ceil(SEQ_LEN * D_HEAD / threadsperblock[0]), B, C)\n",
    "shared_memory_size = (D_HEAD * sizeof(torch.float64)) * 3 + (SEQ_LEN**2 * sizeof(torch.float64))\n",
    "    \n",
    "print(f\"blockspergrid: {blockspergrid}, threadsperblock: {threadsperblock}, shared_memory_size: {shared_memory_size}\")"
   ]
  },
  {
   "cell_type": "code",
   "execution_count": 6,
   "metadata": {},
   "outputs": [
    {
     "data": {
      "text/plain": [
       "131072"
      ]
     },
     "execution_count": 6,
     "metadata": {},
     "output_type": "execute_result"
    }
   ],
   "source": [
    "(SEQ_LEN**2 * sizeof(torch.float64))"
   ]
  },
  {
   "cell_type": "code",
   "execution_count": 5,
   "metadata": {},
   "outputs": [
    {
     "name": "stderr",
     "output_type": "stream",
     "text": [
      "/home/f.mom/sync/.pyenv/versions/3.9.12/envs/env-flash-attention-numba/lib/python3.9/site-packages/tqdm/auto.py:21: TqdmWarning: IProgress not found. Please update jupyter and ipywidgets. See https://ipywidgets.readthedocs.io/en/stable/user_install.html\n",
      "  from .autonotebook import tqdm as notebook_tqdm\n"
     ]
    },
    {
     "data": {
      "text/plain": [
       "(tensor([[[[0.1000, 0.2000, 0.3000, 0.4000],\n",
       "           [0.5000, 0.6000, 0.7000, 0.8000]]]], dtype=torch.float64),\n",
       " torch.Size([1, 1, 2, 4]))"
      ]
     },
     "execution_count": 5,
     "metadata": {},
     "output_type": "execute_result"
    }
   ],
   "source": [
    "import torch\n",
    "# change print precision\n",
    "torch.set_printoptions(precision=4, sci_mode=False)\n",
    "\n",
    "B, C, SEQ_LEN, D_HEAD = (1, 1, 2, 4)\n",
    "Q = (torch.arange(B * C * SEQ_LEN * D_HEAD, dtype=torch.float64).reshape(B, C, SEQ_LEN, D_HEAD) + 1.) / 10\n",
    "K = (torch.arange(B * C * SEQ_LEN * D_HEAD, dtype=torch.float64).reshape(B, C, SEQ_LEN, D_HEAD) + 1.) / 10\n",
    "V = (torch.arange(B * C * SEQ_LEN * D_HEAD, dtype=torch.float64).reshape(B, C, SEQ_LEN, D_HEAD) + 1.) / 10\n",
    "Q, Q.shape"
   ]
  },
  {
   "cell_type": "code",
   "execution_count": 6,
   "metadata": {},
   "outputs": [
    {
     "data": {
      "text/plain": [
       "torch.Size([1, 1, 2, 1])"
      ]
     },
     "execution_count": 6,
     "metadata": {},
     "output_type": "execute_result"
    }
   ],
   "source": [
    "m = torch.full((B, C, SEQ_LEN, 1), -torch.inf)\n",
    "l = torch.zeros((B, C, SEQ_LEN, 1))\n",
    "\n",
    "prev_rowmax = m \n",
    "prev_denominator = l\n",
    "Oi = l.clone()\n",
    "prev_rowmax.shape"
   ]
  },
  {
   "cell_type": "code",
   "execution_count": 14,
   "metadata": {},
   "outputs": [
    {
     "data": {
      "text/plain": [
       "tensor([0.1000, 0.2000, 0.3000, 0.4000, 0.5000, 0.6000, 0.7000, 0.8000],\n",
       "       dtype=torch.float64)"
      ]
     },
     "execution_count": 14,
     "metadata": {},
     "output_type": "execute_result"
    }
   ],
   "source": [
    "Q.flatten()"
   ]
  },
  {
   "cell_type": "code",
   "execution_count": 13,
   "metadata": {},
   "outputs": [
    {
     "data": {
      "text/plain": [
       "tensor([0.1000, 0.5000, 0.2000, 0.6000, 0.3000, 0.7000, 0.4000, 0.8000],\n",
       "       dtype=torch.float64)"
      ]
     },
     "execution_count": 13,
     "metadata": {},
     "output_type": "execute_result"
    }
   ],
   "source": [
    "K.transpose(-2, -1).flatten()"
   ]
  },
  {
   "cell_type": "code",
   "execution_count": 8,
   "metadata": {},
   "outputs": [
    {
     "data": {
      "text/plain": [
       "(torch.Size([1, 1, 2, 2]),\n",
       " tensor([[[[0.3000, 0.7000],\n",
       "           [0.7000, 1.7400]]]], dtype=torch.float64))"
      ]
     },
     "execution_count": 8,
     "metadata": {},
     "output_type": "execute_result"
    }
   ],
   "source": [
    "S = torch.matmul(Q, K.transpose(2, 3))\n",
    "S.shape, S"
   ]
  },
  {
   "cell_type": "code",
   "execution_count": 55,
   "metadata": {},
   "outputs": [
    {
     "data": {
      "text/plain": [
       "(tensor([[[[0.3000]]]], dtype=torch.float64), torch.Size([1, 1, 1, 1]))"
      ]
     },
     "execution_count": 55,
     "metadata": {},
     "output_type": "execute_result"
    }
   ],
   "source": [
    "tile_rowmax = torch.max(S, dim=-1).values[..., None]\n",
    "tile_rowmax, tile_rowmax.shape"
   ]
  },
  {
   "cell_type": "code",
   "execution_count": 33,
   "metadata": {},
   "outputs": [
    {
     "data": {
      "text/plain": [
       "(tensor([[[[0.9900, 1.0000],\n",
       "           [0.9802, 1.0000]]]], dtype=torch.float64),\n",
       " torch.Size([1, 1, 2, 2]))"
      ]
     },
     "execution_count": 33,
     "metadata": {},
     "output_type": "execute_result"
    }
   ],
   "source": [
    "tile_numerator = torch.exp(S - tile_rowmax)\n",
    "tile_numerator, tile_numerator.shape"
   ]
  },
  {
   "cell_type": "code",
   "execution_count": 40,
   "metadata": {},
   "outputs": [
    {
     "data": {
      "text/plain": [
       "tensor([[[[1.9900],\n",
       "          [1.9802]]]], dtype=torch.float64)"
      ]
     },
     "execution_count": 40,
     "metadata": {},
     "output_type": "execute_result"
    }
   ],
   "source": [
    "tile_denominator = torch.sum(tile_numerator, dim=-1)[..., None]\n",
    "tile_denominator"
   ]
  },
  {
   "cell_type": "code",
   "execution_count": 41,
   "metadata": {},
   "outputs": [
    {
     "data": {
      "text/plain": [
       "tensor([[[[0.0200],\n",
       "          [0.0400]]]], dtype=torch.float64)"
      ]
     },
     "execution_count": 41,
     "metadata": {},
     "output_type": "execute_result"
    }
   ],
   "source": [
    "new_rowmax = torch.max(torch.column_stack([prev_rowmax, tile_rowmax]), dim=1).values[:, None]\n",
    "new_rowmax"
   ]
  },
  {
   "cell_type": "code",
   "execution_count": 42,
   "metadata": {},
   "outputs": [
    {
     "data": {
      "text/plain": [
       "tensor([[[[0.],\n",
       "          [0.]]]], dtype=torch.float64)"
      ]
     },
     "execution_count": 42,
     "metadata": {},
     "output_type": "execute_result"
    }
   ],
   "source": [
    "update_prev_exponent = torch.exp(prev_rowmax - new_rowmax)\n",
    "update_prev_exponent"
   ]
  },
  {
   "cell_type": "code",
   "execution_count": 43,
   "metadata": {},
   "outputs": [
    {
     "data": {
      "text/plain": [
       "tensor([[[[1.9900],\n",
       "          [1.9802]]]], dtype=torch.float64)"
      ]
     },
     "execution_count": 43,
     "metadata": {},
     "output_type": "execute_result"
    }
   ],
   "source": [
    "new_denominator = prev_denominator * update_prev_exponent + torch.exp(tile_rowmax - new_rowmax) * tile_denominator\n",
    "new_denominator"
   ]
  },
  {
   "cell_type": "code",
   "execution_count": 44,
   "metadata": {},
   "outputs": [
    {
     "data": {
      "text/plain": [
       "tensor([[[[0.],\n",
       "          [0.]]]], dtype=torch.float64)"
      ]
     },
     "execution_count": 44,
     "metadata": {},
     "output_type": "execute_result"
    }
   ],
   "source": [
    "left = (Oi * (prev_denominator * update_prev_exponent) / new_denominator)\n",
    "left"
   ]
  },
  {
   "cell_type": "code",
   "execution_count": 45,
   "metadata": {},
   "outputs": [
    {
     "data": {
      "text/plain": [
       "tensor([[[[0.4975, 0.5025],\n",
       "          [0.4950, 0.5050]]]], dtype=torch.float64)"
      ]
     },
     "execution_count": 45,
     "metadata": {},
     "output_type": "execute_result"
    }
   ],
   "source": [
    "right = ((tile_numerator * torch.exp(tile_rowmax - new_rowmax)) / new_denominator)\n",
    "right"
   ]
  },
  {
   "cell_type": "code",
   "execution_count": 48,
   "metadata": {},
   "outputs": [
    {
     "data": {
      "text/plain": [
       "tensor([[[[0.1000],\n",
       "          [0.2000]]]], dtype=torch.float64)"
      ]
     },
     "execution_count": 48,
     "metadata": {},
     "output_type": "execute_result"
    }
   ],
   "source": [
    "V"
   ]
  },
  {
   "cell_type": "code",
   "execution_count": 49,
   "metadata": {},
   "outputs": [
    {
     "data": {
      "text/plain": [
       "tensor([[[[0.1502],\n",
       "          [0.1505]]]], dtype=torch.float64)"
      ]
     },
     "execution_count": 49,
     "metadata": {},
     "output_type": "execute_result"
    }
   ],
   "source": [
    "right @ V"
   ]
  },
  {
   "cell_type": "code",
   "execution_count": null,
   "metadata": {},
   "outputs": [],
   "source": [
    "print(torch.sum(Q[0, 0, 0, :] * K.transpose(2,3)[0, 0, :, 0]), S[0, 0, 0, 0])\n",
    "print(torch.sum(Q[0, 0, 0, :] * K.transpose(2,3)[0, 0, :, 1]), S[0, 0, 0, 1])\n",
    "print(torch.sum(Q[0, 0, 1, :] * K.transpose(2,3)[0, 0, :, 0]), S[0, 0, 1, 0])\n",
    "print(torch.sum(Q[0, 0, 1, :] * K.transpose(2,3)[0, 0, :, 1]), S[0, 0, 1, 1])"
   ]
  },
  {
   "cell_type": "code",
   "execution_count": 39,
   "metadata": {},
   "outputs": [
    {
     "data": {
      "text/plain": [
       "tensor([[[[   946.5,    986.3,   1026.1,   1065.9,   1105.6,   1145.4,   1185.2,\n",
       "             1225.0,   1264.7,   1304.5,   1344.3,   1384.1,   1423.8,   1463.6,\n",
       "             1503.4,   1543.2,   1582.9,   1622.7,   1662.5,   1702.3,   1742.0,\n",
       "             1781.8,   1821.6,   1861.4,   1901.2,   1940.9,   1980.7,   2020.5,\n",
       "             2060.3,   2100.0,   2139.8,   2179.6],\n",
       "          [  2602.3,   2708.7,   2815.0,   2921.3,   3027.7,   3134.0,   3240.4,\n",
       "             3346.7,   3453.0,   3559.4,   3665.7,   3772.0,   3878.4,   3984.7,\n",
       "             4091.0,   4197.4,   4303.7,   4410.0,   4516.4,   4622.7,   4729.1,\n",
       "             4835.4,   4941.7,   5048.1,   5154.4,   5260.7,   5367.1,   5473.4,\n",
       "             5579.7,   5686.1,   5792.4,   5898.8]]],\n",
       "\n",
       "\n",
       "        [[[ 42031.5,  42534.1,  43036.7,  43539.3,  44042.0,  44544.6,  45047.2,\n",
       "            45549.8,  46052.4,  46555.1,  47057.7,  47560.3,  48062.9,  48565.6,\n",
       "            49068.2,  49570.8,  50073.4,  50576.1,  51078.7,  51581.3,  52083.9,\n",
       "            52586.6,  53089.2,  53591.8,  54094.4,  54597.1,  55099.7,  55602.3,\n",
       "            56104.9,  56607.6,  57110.2,  57612.8],\n",
       "          [ 58563.9,  59264.2,  59964.4,  60664.7,  61365.0,  62065.2,  62765.5,\n",
       "            63465.7,  64166.0,  64866.2,  65566.5,  66266.8,  66967.0,  67667.3,\n",
       "            68367.5,  69067.8,  69768.0,  70468.3,  71168.5,  71868.8,  72569.1,\n",
       "            73269.3,  73969.6,  74669.8,  75370.1,  76070.3,  76770.6,  77470.8,\n",
       "            78171.1,  78871.4,  79571.6,  80271.9]]],\n",
       "\n",
       "\n",
       "        [[[218382.7, 219872.4, 221362.2, 222852.0, 224341.7, 225831.5, 227321.2,\n",
       "           228811.0, 230300.8, 231790.5, 233280.3, 234770.0, 236259.8, 237749.6,\n",
       "           239239.3, 240729.1, 242218.8, 243708.6, 245198.4, 246688.1, 248177.9,\n",
       "           249667.6, 251157.4, 252647.2, 254136.9, 255626.7, 257116.4, 258606.2,\n",
       "           260096.0, 261585.7, 263075.5, 264565.2],\n",
       "          [266569.1, 268387.5, 270206.0, 272024.4, 273842.9, 275661.4, 277479.8,\n",
       "           279298.3, 281116.8, 282935.2, 284753.7, 286572.2, 288390.6, 290209.1,\n",
       "           292027.6, 293846.0, 295664.5, 297482.9, 299301.4, 301119.9, 302938.3,\n",
       "           304756.8, 306575.3, 308393.7, 310212.2, 312030.7, 313849.1, 315667.6,\n",
       "           317486.0, 319304.5, 321123.0, 322941.4]]]], dtype=torch.float64)"
      ]
     },
     "execution_count": 39,
     "metadata": {},
     "output_type": "execute_result"
    }
   ],
   "source": [
    "# S.shape, V.shape\n",
    "torch.matmul(S, V)"
   ]
  },
  {
   "cell_type": "code",
   "execution_count": 38,
   "metadata": {},
   "outputs": [
    {
     "data": {
      "text/plain": [
       "tensor([ 946.5,  986.3, 1026.1, 1065.9, 1105.6, 1145.4, 1185.2, 1225.0, 1264.7,\n",
       "        1304.5, 1344.3, 1384.1, 1423.8, 1463.6, 1503.4, 1543.2, 1582.9, 1622.7,\n",
       "        1662.5, 1702.3, 1742.0, 1781.8, 1821.6, 1861.4, 1901.2, 1940.9, 1980.7,\n",
       "        2020.5, 2060.3, 2100.0, 2139.8, 2179.6], dtype=torch.float64)"
      ]
     },
     "execution_count": 38,
     "metadata": {},
     "output_type": "execute_result"
    }
   ],
   "source": [
    "S[0, 0, 0, 0] * V[0, 0, 0, :] + S[0, 0, 0, 1] * V[0, 0, 1, :]"
   ]
  },
  {
   "cell_type": "code",
   "execution_count": null,
   "metadata": {},
   "outputs": [],
   "source": [
    "def ref_attention(Q, K, V):\n",
    "    # B, C, SEQ_LEN, D_HEAD\n",
    "    S = torch.matmul(Q, K.transpose(2, 3))\n",
    "    # (3, 2, SEQ_LEN, SEQ_LEN)\n",
    "    print(S.shape)\n",
    "    # Compute softmax for each row of S\n",
    "    P = torch.softmax(S, dim=2)\n",
    "    O =  torch.matmul(P, V)\n",
    "    return O\n",
    "\n",
    "ref = ref_attention(Q.clone(), K.clone(), V.clone())\n",
    "print(ref)"
   ]
  },
  {
   "cell_type": "code",
   "execution_count": null,
   "metadata": {},
   "outputs": [],
   "source": [
    "import torch\n",
    "\n",
    "seq_len = 4\n",
    "d_head = 4\n",
    "\n",
    "Q = (torch.arange(seq_len * d_head).reshape(seq_len, d_head) + 1.)  / 10\n",
    "K = (torch.arange(seq_len * d_head).reshape(seq_len, d_head) + 1.)  / 10\n",
    "V = (torch.arange(seq_len * d_head).reshape(seq_len, d_head) + 1.)  / 10\n"
   ]
  },
  {
   "cell_type": "code",
   "execution_count": null,
   "metadata": {},
   "outputs": [],
   "source": [
    "Q"
   ]
  },
  {
   "cell_type": "code",
   "execution_count": null,
   "metadata": {},
   "outputs": [],
   "source": [
    "torch.softmax(Q @ K.T, dim=1) @ V"
   ]
  },
  {
   "cell_type": "code",
   "execution_count": null,
   "metadata": {},
   "outputs": [],
   "source": [
    "torch.softmax(Q[0, :] @ K.T, dim=0)"
   ]
  },
  {
   "attachments": {},
   "cell_type": "markdown",
   "metadata": {},
   "source": [
    "# One-shot"
   ]
  },
  {
   "cell_type": "code",
   "execution_count": null,
   "metadata": {},
   "outputs": [],
   "source": [
    "seq_len = 4\n",
    "d_head = 4\n",
    "\n",
    "Q = (torch.arange(seq_len * d_head).reshape(seq_len, d_head) + 1.)  / 10\n",
    "K = (torch.arange(seq_len * d_head).reshape(seq_len, d_head) + 1.)  / 10\n",
    "V = (torch.arange(seq_len * d_head).reshape(seq_len, d_head) + 1.)  / 10\n",
    "O = torch.zeros((seq_len, d_head))\n",
    "\n",
    "\n",
    "m = torch.full((seq_len, 1), -torch.inf)\n",
    "l = torch.zeros((seq_len, 1))\n",
    "\n",
    "prev_rowmax = m  # shape Br x 1\n",
    "prev_denominator = l  # shape Br x 1\n",
    "\n",
    "# print(\"====== Q =======\")\n",
    "# print(Q)\n",
    "# print()\n",
    "\n",
    "# print(\"====== Sij =======\")\n",
    "Sij = Q @ K # TODO: I removed the transpose here to match GPU version \n",
    "# print(Sij)\n",
    "# print()\n",
    "\n",
    "print(\"====== tile_rowmax =======\")\n",
    "tile_rowmax = torch.max(Sij, dim=1).values[:, None]\n",
    "print(tile_rowmax)\n",
    "print()\n",
    "\n",
    "print(\"====== tile_numerator =======\")\n",
    "tile_numerator = torch.exp(Sij - tile_rowmax)\n",
    "print(tile_numerator)\n",
    "print()\n",
    "\n",
    "print(\"====== tile_denominator =======\")\n",
    "tile_denominator = torch.sum(tile_numerator, dim=1)[:, None]\n",
    "print(tile_denominator)\n",
    "print()\n",
    "\n",
    "print(\"====== new_rowmax =======\")\n",
    "new_rowmax = torch.max(torch.column_stack([prev_rowmax, tile_rowmax]), dim=1).values[:, None]\n",
    "print(new_rowmax)\n",
    "print()\n",
    "\n",
    "print(\"====== update_prev_exponent  =======\")\n",
    "update_prev_exponent = torch.exp(prev_rowmax - new_rowmax)\n",
    "print(update_prev_exponent)\n",
    "\n",
    "print(\"====== new_denominator =======\")\n",
    "new_denominator = prev_denominator * update_prev_exponent + torch.exp(tile_rowmax - new_rowmax) * tile_denominator\n",
    "print(new_denominator)\n",
    "print()\n",
    "\n",
    "# print(\"====== O =======\")\n",
    "# O = (li * torch.exp(mi - mi_new) * O / li_new) + (torch.exp(tile_rowmax - mi_new) * pij_hat / li_new) @ V\n",
    "# print(O)\n",
    "# print()\n"
   ]
  },
  {
   "cell_type": "code",
   "execution_count": null,
   "metadata": {},
   "outputs": [],
   "source": [
    "0.2454 * 0.1 + 0.3660 * 0.5"
   ]
  },
  {
   "cell_type": "code",
   "execution_count": null,
   "metadata": {},
   "outputs": [],
   "source": [
    "import numpy as np\n",
    "np.exp(-float(\"inf\"))"
   ]
  },
  {
   "attachments": {},
   "cell_type": "markdown",
   "metadata": {},
   "source": [
    "# 2-shot on K"
   ]
  },
  {
   "cell_type": "code",
   "execution_count": null,
   "metadata": {},
   "outputs": [],
   "source": [
    "seq_len = 4\n",
    "d_head = 4\n",
    "\n",
    "Q = (torch.arange(seq_len * d_head).reshape(seq_len, d_head) + 1.)  / 10\n",
    "K = (torch.arange(seq_len * d_head).reshape(seq_len, d_head) + 1.)  / 10\n",
    "V = (torch.arange(seq_len * d_head).reshape(seq_len, d_head) + 1.)  / 10\n",
    "O = torch.zeros((seq_len, d_head))\n",
    "\n",
    "\n",
    "m = torch.full((seq_len, 1), -torch.inf)\n",
    "l = torch.zeros((seq_len, 1))\n",
    "\n",
    "mi = m  # shape Br x 1\n",
    "li = l  # shape Br x 1\n",
    "\n",
    "# print(\"1st pass on K\")\n",
    "print(\"====== Q =======\")\n",
    "print(Q)\n",
    "print()\n",
    "\n",
    "print(\"====== Sij =======\")\n",
    "Sij = Q @ K[0:2, :].T\n",
    "print(Sij)\n",
    "print()\n",
    "\n",
    "print(\"====== mij_hat =======\")\n",
    "mij_hat = torch.max(Sij, dim=1).values[:, None]\n",
    "print(mij_hat)\n",
    "print()\n",
    "\n",
    "print(\"====== pij_hat =======\")\n",
    "pij_hat = torch.exp(Sij - mij_hat)\n",
    "print(pij_hat)\n",
    "print()\n",
    "\n",
    "print(\"====== lij_hat =======\")\n",
    "lij_hat = torch.sum(pij_hat, dim=1)[:, None]\n",
    "print(lij_hat)\n",
    "print()\n",
    "\n",
    "print(\"====== mi_new =======\")\n",
    "mi_new = torch.max(torch.column_stack([mi, mij_hat]), dim=1).values[:, None]\n",
    "print(mi_new)\n",
    "print()\n",
    "\n",
    "print(\"====== li_new =======\")\n",
    "li_new = torch.exp(mi - mi_new) * li + torch.exp(mij_hat - mi_new) * lij_hat\n",
    "print(li_new)\n",
    "print()\n",
    "\n",
    "print(\"====== O =======\")\n",
    "O = (li * torch.exp(mi - mi_new) * O / li_new) + (torch.exp(mij_hat - mi_new) * pij_hat / li_new) @ V[0:2, :]\n",
    "print(O)\n",
    "print()\n",
    "\n",
    "mi = mi_new\n"
   ]
  },
  {
   "cell_type": "code",
   "execution_count": null,
   "metadata": {},
   "outputs": [],
   "source": [
    "# print(\"2nd pass on K\")\n",
    "print(\"====== Q =======\")\n",
    "print(Q)\n",
    "print()\n",
    "\n",
    "print(\"====== Sij =======\")\n",
    "Sij = Q @ K[2:4, :].T\n",
    "print(Sij)\n",
    "print()\n",
    "\n",
    "print(\"====== mij_hat =======\")\n",
    "mij_hat = torch.max(Sij, dim=1).values[:, None]\n",
    "print(mij_hat)\n",
    "print()\n",
    "\n",
    "print(\"====== pij_hat =======\")\n",
    "pij_hat = torch.exp(Sij - mij_hat)\n",
    "print(pij_hat)\n",
    "print()\n",
    "\n",
    "print(\"====== lij_hat =======\")\n",
    "lij_hat = torch.sum(pij_hat, dim=1)[:, None]\n",
    "print(lij_hat)\n",
    "print()\n",
    "\n",
    "print(\"====== mi_new =======\")\n",
    "mi_new = torch.max(torch.column_stack([mi, mij_hat]), dim=1).values[:, None]\n",
    "print(mi_new)\n",
    "print()\n",
    "\n",
    "print(\"====== li_new =======\")\n",
    "li_new = torch.exp(mi - mi_new) * li + torch.exp(mij_hat - mi_new) * lij_hat\n",
    "print(li_new)\n",
    "print()\n",
    "\n",
    "print(\"====== O =======\")\n",
    "O = (li * torch.exp(mi - mi_new) * O / li_new) + (torch.exp(mij_hat - mi_new) * pij_hat / li_new) @ V[2:4, :]\n",
    "print(O)\n",
    "print()"
   ]
  },
  {
   "cell_type": "code",
   "execution_count": null,
   "metadata": {},
   "outputs": [],
   "source": [
    "print(torch.exp(mi - mi_new) * li)\n",
    "print(torch.exp(mij_hat - mi_new) * lij_hat)\n",
    "print(li_new)"
   ]
  },
  {
   "cell_type": "code",
   "execution_count": null,
   "metadata": {},
   "outputs": [],
   "source": [
    "1.6703 + 0.7505"
   ]
  },
  {
   "cell_type": "code",
   "execution_count": null,
   "metadata": {},
   "outputs": [],
   "source": [
    "tensor([[0.8915, 0.9915, 1.0915, 1.1915],\n",
    "        [1.1067, 1.2067, 1.3067, 1.4067],\n",
    "        [1.2103, 1.3103, 1.4103, 1.5103],\n",
    "        [1.2566, 1.3566, 1.4566, 1.5566]])"
   ]
  },
  {
   "attachments": {},
   "cell_type": "markdown",
   "metadata": {},
   "source": [
    "# Softmax\n",
    "\n",
    "> https://arxiv.org/pdf/1805.02867.pdf"
   ]
  },
  {
   "cell_type": "code",
   "execution_count": null,
   "metadata": {},
   "outputs": [],
   "source": [
    "torch.manual_seed(0)\n",
    "\n",
    "x = torch.arange(10, dtype=torch.float32)\n",
    "x"
   ]
  },
  {
   "cell_type": "code",
   "execution_count": null,
   "metadata": {},
   "outputs": [],
   "source": [
    "def naive_softmax(vec):\n",
    "   return torch.exp(vec) / torch.sum(torch.exp(vec))\n",
    "\n",
    "torch.allclose(torch.softmax(x.clone(), dim=0), naive_softmax(x.clone()))"
   ]
  },
  {
   "cell_type": "code",
   "execution_count": null,
   "metadata": {},
   "outputs": [],
   "source": [
    "def safe_softmax(vec):\n",
    "    # Compute row max in 1st pass\n",
    "    row_max = torch.max(vec)\n",
    "    # Compute denominator in 2nd pass\n",
    "    denominator = torch.sum(torch.exp(vec - row_max))\n",
    "    return torch.exp(vec - row_max) / denominator\n",
    "\n",
    "\n",
    "torch.allclose(torch.softmax(x.clone(), dim=0), safe_softmax(x.clone()))"
   ]
  },
  {
   "cell_type": "code",
   "execution_count": null,
   "metadata": {},
   "outputs": [],
   "source": [
    "#TODO: Cf goodnotes ipad \"Flash attention   \"\n",
    "\n",
    "def online_softmax(vec):\n",
    "    N = len(vec)\n",
    "    rowmax = -float(\"inf\")\n",
    "    denominator = 0\n",
    "    # Compute the max and denominator in single pass\n",
    "    for i in range(N):\n",
    "        prev_rowmax = rowmax\n",
    "        rowmax = max(prev_rowmax, vec[i])\n",
    "        denominator = denominator * torch.exp(prev_rowmax - rowmax) + torch.exp(vec[i] - rowmax)\n",
    "        print(f\"prev_rowmax = {prev_rowmax} | rowmax = {rowmax} | denominator = {denominator}\")\n",
    "\n",
    "    print(torch.exp(vec - rowmax))\n",
    "    print(denominator)\n",
    "    return torch.exp(vec - rowmax) / denominator\n",
    "\n",
    "torch.allclose(torch.softmax(x.clone(), dim=0), online_softmax(x.clone()))"
   ]
  },
  {
   "cell_type": "code",
   "execution_count": null,
   "metadata": {},
   "outputs": [],
   "source": [
    "print(x)"
   ]
  },
  {
   "cell_type": "code",
   "execution_count": null,
   "metadata": {},
   "outputs": [],
   "source": [
    "online_softmax(x.clone())"
   ]
  },
  {
   "cell_type": "code",
   "execution_count": null,
   "metadata": {},
   "outputs": [],
   "source": [
    "torch.exp(x - torch.max(x))"
   ]
  },
  {
   "cell_type": "code",
   "execution_count": null,
   "metadata": {},
   "outputs": [],
   "source": [
    "torch.sum(torch.exp(x - torch.max(x)))"
   ]
  },
  {
   "cell_type": "code",
   "execution_count": null,
   "metadata": {},
   "outputs": [],
   "source": [
    "torch.exp(x - torch.max(x)) / torch.sum(torch.exp(x - torch.max(x)))"
   ]
  },
  {
   "cell_type": "code",
   "execution_count": null,
   "metadata": {},
   "outputs": [],
   "source": []
  }
 ],
 "metadata": {
  "kernelspec": {
   "display_name": "env-flash-attention-numba",
   "language": "python",
   "name": "python3"
  },
  "language_info": {
   "codemirror_mode": {
    "name": "ipython",
    "version": 3
   },
   "file_extension": ".py",
   "mimetype": "text/x-python",
   "name": "python",
   "nbconvert_exporter": "python",
   "pygments_lexer": "ipython3",
   "version": "3.9.12"
  },
  "orig_nbformat": 4,
  "vscode": {
   "interpreter": {
    "hash": "8c5164668022b3b47838cf91eb09273aa31b71c865c399d18009984f4e1117d9"
   }
  }
 },
 "nbformat": 4,
 "nbformat_minor": 2
}
