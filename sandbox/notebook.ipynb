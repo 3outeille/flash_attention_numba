{
 "cells": [
  {
   "cell_type": "code",
   "execution_count": 1,
   "metadata": {},
   "outputs": [],
   "source": [
    "import torch\n",
    "\n",
    "seq_len = 6\n",
    "d_head = 6\n",
    "\n",
    "Q = (torch.arange(seq_len * d_head).reshape(seq_len, d_head) + 1.)  / 10\n",
    "K = (torch.arange(seq_len * d_head).reshape(seq_len, d_head) + 1.)  / 10\n",
    "V = (torch.arange(seq_len * d_head).reshape(seq_len, d_head) + 1.)  / 10\n"
   ]
  },
  {
   "cell_type": "code",
   "execution_count": 2,
   "metadata": {},
   "outputs": [
    {
     "data": {
      "text/plain": [
       "tensor([[0.1000, 0.2000, 0.3000, 0.4000, 0.5000, 0.6000],\n",
       "        [0.7000, 0.8000, 0.9000, 1.0000, 1.1000, 1.2000],\n",
       "        [1.3000, 1.4000, 1.5000, 1.6000, 1.7000, 1.8000],\n",
       "        [1.9000, 2.0000, 2.1000, 2.2000, 2.3000, 2.4000],\n",
       "        [2.5000, 2.6000, 2.7000, 2.8000, 2.9000, 3.0000],\n",
       "        [3.1000, 3.2000, 3.3000, 3.4000, 3.5000, 3.6000]])"
      ]
     },
     "execution_count": 2,
     "metadata": {},
     "output_type": "execute_result"
    }
   ],
   "source": [
    "Q"
   ]
  },
  {
   "cell_type": "code",
   "execution_count": 3,
   "metadata": {},
   "outputs": [
    {
     "data": {
      "text/plain": [
       "tensor([[2.8643, 2.9643, 3.0643, 3.1643, 3.2643, 3.3643],\n",
       "        [3.0797, 3.1797, 3.2797, 3.3797, 3.4797, 3.5797],\n",
       "        [3.0977, 3.1977, 3.2977, 3.3977, 3.4977, 3.5977],\n",
       "        [3.0997, 3.1997, 3.2997, 3.3997, 3.4997, 3.5997],\n",
       "        [3.1000, 3.2000, 3.3000, 3.4000, 3.5000, 3.6000],\n",
       "        [3.1000, 3.2000, 3.3000, 3.4000, 3.5000, 3.6000]])"
      ]
     },
     "execution_count": 3,
     "metadata": {},
     "output_type": "execute_result"
    }
   ],
   "source": [
    "torch.softmax(Q @ K.T, dim=1) @ V"
   ]
  },
  {
   "cell_type": "code",
   "execution_count": 4,
   "metadata": {},
   "outputs": [
    {
     "data": {
      "text/plain": [
       "tensor([0.0013, 0.0046, 0.0164, 0.0577, 0.2033, 0.7167])"
      ]
     },
     "execution_count": 4,
     "metadata": {},
     "output_type": "execute_result"
    }
   ],
   "source": [
    "torch.softmax(Q[0, :] @ K.T, dim=0)"
   ]
  },
  {
   "attachments": {},
   "cell_type": "markdown",
   "metadata": {},
   "source": [
    "# One-shot"
   ]
  },
  {
   "cell_type": "code",
   "execution_count": 5,
   "metadata": {},
   "outputs": [
    {
     "name": "stdout",
     "output_type": "stream",
     "text": [
      "====== Q =======\n",
      "tensor([[0.1000, 0.2000, 0.3000, 0.4000],\n",
      "        [0.5000, 0.6000, 0.7000, 0.8000],\n",
      "        [0.9000, 1.0000, 1.1000, 1.2000],\n",
      "        [1.3000, 1.4000, 1.5000, 1.6000]])\n",
      "\n",
      "====== Sij =======\n",
      "tensor([[0.3000, 0.7000, 1.1000, 1.5000],\n",
      "        [0.7000, 1.7400, 2.7800, 3.8200],\n",
      "        [1.1000, 2.7800, 4.4600, 6.1400],\n",
      "        [1.5000, 3.8200, 6.1400, 8.4600]])\n",
      "\n",
      "====== mij_hat =======\n",
      "tensor([[1.5000],\n",
      "        [3.8200],\n",
      "        [6.1400],\n",
      "        [8.4600]])\n",
      "\n",
      "====== pij_hat =======\n",
      "tensor([[3.0119e-01, 4.4933e-01, 6.7032e-01, 1.0000e+00],\n",
      "        [4.4157e-02, 1.2493e-01, 3.5345e-01, 1.0000e+00],\n",
      "        [6.4737e-03, 3.4735e-02, 1.8637e-01, 1.0000e+00],\n",
      "        [9.4910e-04, 9.6577e-03, 9.8274e-02, 1.0000e+00]])\n",
      "\n",
      "====== lij_hat =======\n",
      "tensor([[2.4208],\n",
      "        [1.5225],\n",
      "        [1.2276],\n",
      "        [1.1089]])\n",
      "\n",
      "====== mi_new =======\n",
      "tensor([[1.5000],\n",
      "        [3.8200],\n",
      "        [6.1400],\n",
      "        [8.4600]])\n",
      "\n",
      "====== li_new =======\n",
      "tensor([[2.4208],\n",
      "        [1.5225],\n",
      "        [1.2276],\n",
      "        [1.1089]])\n",
      "\n",
      "====== O =======\n",
      "tensor([[0.8915, 0.9915, 1.0915, 1.1915],\n",
      "        [1.1067, 1.2067, 1.3067, 1.4067],\n",
      "        [1.2103, 1.3103, 1.4103, 1.5103],\n",
      "        [1.2566, 1.3566, 1.4566, 1.5566]])\n",
      "\n"
     ]
    }
   ],
   "source": [
    "seq_len = 4\n",
    "d_head = 4\n",
    "\n",
    "Q = (torch.arange(seq_len * d_head).reshape(seq_len, d_head) + 1.)  / 10\n",
    "K = (torch.arange(seq_len * d_head).reshape(seq_len, d_head) + 1.)  / 10\n",
    "V = (torch.arange(seq_len * d_head).reshape(seq_len, d_head) + 1.)  / 10\n",
    "O = torch.zeros((seq_len, d_head))\n",
    "\n",
    "\n",
    "m = torch.full((seq_len, 1), -torch.inf)\n",
    "l = torch.zeros((seq_len, 1))\n",
    "\n",
    "mi = m  # shape Br x 1\n",
    "li = l  # shape Br x 1\n",
    "\n",
    "print(\"====== Q =======\")\n",
    "print(Q)\n",
    "print()\n",
    "\n",
    "print(\"====== Sij =======\")\n",
    "Sij = Q @ K.T\n",
    "print(Sij)\n",
    "print()\n",
    "\n",
    "print(\"====== mij_hat =======\")\n",
    "mij_hat = torch.max(Sij, dim=1).values[:, None]\n",
    "print(mij_hat)\n",
    "print()\n",
    "\n",
    "print(\"====== pij_hat =======\")\n",
    "pij_hat = torch.exp(Sij - mij_hat)\n",
    "print(pij_hat)\n",
    "print()\n",
    "\n",
    "print(\"====== lij_hat =======\")\n",
    "lij_hat = torch.sum(pij_hat, dim=1)[:, None]\n",
    "print(lij_hat)\n",
    "print()\n",
    "\n",
    "print(\"====== mi_new =======\")\n",
    "mi_new = torch.max(torch.column_stack([mi, mij_hat]), dim=1).values[:, None]\n",
    "print(mi_new)\n",
    "print()\n",
    "\n",
    "print(\"====== li_new =======\")\n",
    "li_new = torch.exp(mi - mi_new) * li + torch.exp(mij_hat - mi_new) * lij_hat\n",
    "print(li_new)\n",
    "print()\n",
    "\n",
    "print(\"====== O =======\")\n",
    "O = (li * torch.exp(mi - mi_new) * O / li_new) + (torch.exp(mij_hat - mi_new) * pij_hat / li_new) @ V\n",
    "print(O)\n",
    "print()\n"
   ]
  },
  {
   "attachments": {},
   "cell_type": "markdown",
   "metadata": {},
   "source": [
    "# 2-shot on K"
   ]
  },
  {
   "cell_type": "code",
   "execution_count": 12,
   "metadata": {},
   "outputs": [
    {
     "name": "stdout",
     "output_type": "stream",
     "text": [
      "====== Q =======\n",
      "tensor([[0.1000, 0.2000, 0.3000, 0.4000],\n",
      "        [0.5000, 0.6000, 0.7000, 0.8000],\n",
      "        [0.9000, 1.0000, 1.1000, 1.2000],\n",
      "        [1.3000, 1.4000, 1.5000, 1.6000]])\n",
      "\n",
      "====== Sij =======\n",
      "tensor([[0.3000, 0.7000],\n",
      "        [0.7000, 1.7400],\n",
      "        [1.1000, 2.7800],\n",
      "        [1.5000, 3.8200]])\n",
      "\n",
      "====== mij_hat =======\n",
      "tensor([[0.7000],\n",
      "        [1.7400],\n",
      "        [2.7800],\n",
      "        [3.8200]])\n",
      "\n",
      "====== pij_hat =======\n",
      "tensor([[0.6703, 1.0000],\n",
      "        [0.3535, 1.0000],\n",
      "        [0.1864, 1.0000],\n",
      "        [0.0983, 1.0000]])\n",
      "\n",
      "====== lij_hat =======\n",
      "tensor([[1.6703],\n",
      "        [1.3535],\n",
      "        [1.1864],\n",
      "        [1.0983]])\n",
      "\n",
      "====== mi_new =======\n",
      "tensor([[0.7000],\n",
      "        [1.7400],\n",
      "        [2.7800],\n",
      "        [3.8200]])\n",
      "\n",
      "====== li_new =======\n",
      "tensor([[1.6703],\n",
      "        [1.3535],\n",
      "        [1.1864],\n",
      "        [1.0983]])\n",
      "\n",
      "====== O =======\n",
      "tensor([[0.3395, 0.4395, 0.5395, 0.6395],\n",
      "        [0.3955, 0.4955, 0.5955, 0.6955],\n",
      "        [0.4372, 0.5372, 0.6372, 0.7372],\n",
      "        [0.4642, 0.5642, 0.6642, 0.7642]])\n",
      "\n"
     ]
    }
   ],
   "source": [
    "seq_len = 4\n",
    "d_head = 4\n",
    "\n",
    "Q = (torch.arange(seq_len * d_head).reshape(seq_len, d_head) + 1.)  / 10\n",
    "K = (torch.arange(seq_len * d_head).reshape(seq_len, d_head) + 1.)  / 10\n",
    "V = (torch.arange(seq_len * d_head).reshape(seq_len, d_head) + 1.)  / 10\n",
    "O = torch.zeros((seq_len, d_head))\n",
    "\n",
    "\n",
    "m = torch.full((seq_len, 1), -torch.inf)\n",
    "l = torch.zeros((seq_len, 1))\n",
    "\n",
    "mi = m  # shape Br x 1\n",
    "li = l  # shape Br x 1\n",
    "\n",
    "# print(\"1st pass on K\")\n",
    "print(\"====== Q =======\")\n",
    "print(Q)\n",
    "print()\n",
    "\n",
    "print(\"====== Sij =======\")\n",
    "Sij = Q @ K[0:2, :].T\n",
    "print(Sij)\n",
    "print()\n",
    "\n",
    "print(\"====== mij_hat =======\")\n",
    "mij_hat = torch.max(Sij, dim=1).values[:, None]\n",
    "print(mij_hat)\n",
    "print()\n",
    "\n",
    "print(\"====== pij_hat =======\")\n",
    "pij_hat = torch.exp(Sij - mij_hat)\n",
    "print(pij_hat)\n",
    "print()\n",
    "\n",
    "print(\"====== lij_hat =======\")\n",
    "lij_hat = torch.sum(pij_hat, dim=1)[:, None]\n",
    "print(lij_hat)\n",
    "print()\n",
    "\n",
    "print(\"====== mi_new =======\")\n",
    "mi_new = torch.max(torch.column_stack([mi, mij_hat]), dim=1).values[:, None]\n",
    "print(mi_new)\n",
    "print()\n",
    "\n",
    "print(\"====== li_new =======\")\n",
    "li_new = torch.exp(mi - mi_new) * li + torch.exp(mij_hat - mi_new) * lij_hat\n",
    "print(li_new)\n",
    "print()\n",
    "\n",
    "print(\"====== O =======\")\n",
    "O = (li * torch.exp(mi - mi_new) * O / li_new) + (torch.exp(mij_hat - mi_new) * pij_hat / li_new) @ V[0:2, :]\n",
    "print(O)\n",
    "print()\n",
    "\n",
    "mi = mi_new\n"
   ]
  },
  {
   "cell_type": "code",
   "execution_count": 13,
   "metadata": {},
   "outputs": [
    {
     "name": "stdout",
     "output_type": "stream",
     "text": [
      "====== Q =======\n",
      "tensor([[0.1000, 0.2000, 0.3000, 0.4000],\n",
      "        [0.5000, 0.6000, 0.7000, 0.8000],\n",
      "        [0.9000, 1.0000, 1.1000, 1.2000],\n",
      "        [1.3000, 1.4000, 1.5000, 1.6000]])\n",
      "\n",
      "====== Sij =======\n",
      "tensor([[1.1000, 1.5000],\n",
      "        [2.7800, 3.8200],\n",
      "        [4.4600, 6.1400],\n",
      "        [6.1400, 8.4600]])\n",
      "\n",
      "====== mij_hat =======\n",
      "tensor([[1.5000],\n",
      "        [3.8200],\n",
      "        [6.1400],\n",
      "        [8.4600]])\n",
      "\n",
      "====== pij_hat =======\n",
      "tensor([[0.6703, 1.0000],\n",
      "        [0.3535, 1.0000],\n",
      "        [0.1864, 1.0000],\n",
      "        [0.0983, 1.0000]])\n",
      "\n",
      "====== lij_hat =======\n",
      "tensor([[1.6703],\n",
      "        [1.3535],\n",
      "        [1.1864],\n",
      "        [1.0983]])\n",
      "\n",
      "====== mi_new =======\n",
      "tensor([[1.5000],\n",
      "        [3.8200],\n",
      "        [6.1400],\n",
      "        [8.4600]])\n",
      "\n",
      "====== li_new =======\n",
      "tensor([[2.4208],\n",
      "        [1.5225],\n",
      "        [1.2276],\n",
      "        [1.1089]])\n",
      "\n",
      "====== O =======\n",
      "tensor([[0.8915, 0.9915, 1.0915, 1.1915],\n",
      "        [1.1067, 1.2067, 1.3067, 1.4067],\n",
      "        [1.2103, 1.3103, 1.4103, 1.5103],\n",
      "        [1.2566, 1.3566, 1.4566, 1.5566]])\n",
      "\n"
     ]
    }
   ],
   "source": [
    "# print(\"2nd pass on K\")\n",
    "print(\"====== Q =======\")\n",
    "print(Q)\n",
    "print()\n",
    "\n",
    "print(\"====== Sij =======\")\n",
    "Sij = Q @ K[2:4, :].T\n",
    "print(Sij)\n",
    "print()\n",
    "\n",
    "print(\"====== mij_hat =======\")\n",
    "mij_hat = torch.max(Sij, dim=1).values[:, None]\n",
    "print(mij_hat)\n",
    "print()\n",
    "\n",
    "print(\"====== pij_hat =======\")\n",
    "pij_hat = torch.exp(Sij - mij_hat)\n",
    "print(pij_hat)\n",
    "print()\n",
    "\n",
    "print(\"====== lij_hat =======\")\n",
    "lij_hat = torch.sum(pij_hat, dim=1)[:, None]\n",
    "print(lij_hat)\n",
    "print()\n",
    "\n",
    "print(\"====== mi_new =======\")\n",
    "mi_new = torch.max(torch.column_stack([mi, mij_hat]), dim=1).values[:, None]\n",
    "print(mi_new)\n",
    "print()\n",
    "\n",
    "print(\"====== li_new =======\")\n",
    "li_new = torch.exp(mi - mi_new) * li + torch.exp(mij_hat - mi_new) * lij_hat\n",
    "print(li_new)\n",
    "print()\n",
    "\n",
    "print(\"====== O =======\")\n",
    "O = (li * torch.exp(mi - mi_new) * O / li_new) + (torch.exp(mij_hat - mi_new) * pij_hat / li_new) @ V[2:4, :]\n",
    "print(O)\n",
    "print()"
   ]
  },
  {
   "cell_type": "code",
   "execution_count": 16,
   "metadata": {},
   "outputs": [
    {
     "name": "stdout",
     "output_type": "stream",
     "text": [
      "tensor([[0.7505],\n",
      "        [0.1691],\n",
      "        [0.0412],\n",
      "        [0.0106]])\n",
      "tensor([[1.6703],\n",
      "        [1.3535],\n",
      "        [1.1864],\n",
      "        [1.0983]])\n",
      "tensor([[2.4208],\n",
      "        [1.5225],\n",
      "        [1.2276],\n",
      "        [1.1089]])\n"
     ]
    }
   ],
   "source": [
    "print(torch.exp(mi - mi_new) * li)\n",
    "print(torch.exp(mij_hat - mi_new) * lij_hat)\n",
    "print(li_new)"
   ]
  },
  {
   "cell_type": "code",
   "execution_count": 17,
   "metadata": {},
   "outputs": [
    {
     "data": {
      "text/plain": [
       "2.4208"
      ]
     },
     "execution_count": 17,
     "metadata": {},
     "output_type": "execute_result"
    }
   ],
   "source": [
    "1.6703 + 0.7505"
   ]
  },
  {
   "cell_type": "code",
   "execution_count": null,
   "metadata": {},
   "outputs": [],
   "source": [
    "tensor([[0.8915, 0.9915, 1.0915, 1.1915],\n",
    "        [1.1067, 1.2067, 1.3067, 1.4067],\n",
    "        [1.2103, 1.3103, 1.4103, 1.5103],\n",
    "        [1.2566, 1.3566, 1.4566, 1.5566]])"
   ]
  },
  {
   "attachments": {},
   "cell_type": "markdown",
   "metadata": {},
   "source": [
    "# Softmax\n",
    "\n",
    "> https://arxiv.org/pdf/1805.02867.pdf"
   ]
  },
  {
   "cell_type": "code",
   "execution_count": 18,
   "metadata": {},
   "outputs": [
    {
     "data": {
      "text/plain": [
       "tensor([0., 1., 2., 3., 4., 5., 6., 7., 8., 9.])"
      ]
     },
     "execution_count": 18,
     "metadata": {},
     "output_type": "execute_result"
    }
   ],
   "source": [
    "torch.manual_seed(0)\n",
    "\n",
    "x = torch.arange(10, dtype=torch.float32)\n",
    "x"
   ]
  },
  {
   "cell_type": "code",
   "execution_count": 19,
   "metadata": {},
   "outputs": [
    {
     "data": {
      "text/plain": [
       "True"
      ]
     },
     "execution_count": 19,
     "metadata": {},
     "output_type": "execute_result"
    }
   ],
   "source": [
    "def naive_softmax(vec):\n",
    "   return torch.exp(vec) / torch.sum(torch.exp(vec))\n",
    "\n",
    "torch.allclose(torch.softmax(x.clone(), dim=0), naive_softmax(x.clone()))"
   ]
  },
  {
   "cell_type": "code",
   "execution_count": 20,
   "metadata": {},
   "outputs": [
    {
     "data": {
      "text/plain": [
       "True"
      ]
     },
     "execution_count": 20,
     "metadata": {},
     "output_type": "execute_result"
    }
   ],
   "source": [
    "def safe_softmax(vec):\n",
    "    # Compute row max in 1st pass\n",
    "    row_max = torch.max(vec)\n",
    "    # Compute denominator in 2nd pass\n",
    "    denominator = torch.sum(torch.exp(vec - row_max))\n",
    "    return torch.exp(vec - row_max) / denominator\n",
    "\n",
    "\n",
    "torch.allclose(torch.softmax(x.clone(), dim=0), safe_softmax(x.clone()))"
   ]
  },
  {
   "cell_type": "code",
   "execution_count": 39,
   "metadata": {},
   "outputs": [
    {
     "name": "stdout",
     "output_type": "stream",
     "text": [
      "prev_rowmax = -inf | rowmax = 0.0 | denominator = 1.0\n",
      "prev_rowmax = 0.0 | rowmax = 1.0 | denominator = 1.3678793907165527\n",
      "prev_rowmax = 1.0 | rowmax = 2.0 | denominator = 1.503214716911316\n",
      "prev_rowmax = 2.0 | rowmax = 3.0 | denominator = 1.553001880645752\n",
      "prev_rowmax = 3.0 | rowmax = 4.0 | denominator = 1.571317434310913\n",
      "prev_rowmax = 4.0 | rowmax = 5.0 | denominator = 1.5780553817749023\n",
      "prev_rowmax = 5.0 | rowmax = 6.0 | denominator = 1.5805342197418213\n",
      "prev_rowmax = 6.0 | rowmax = 7.0 | denominator = 1.5814460515975952\n",
      "prev_rowmax = 7.0 | rowmax = 8.0 | denominator = 1.5817815065383911\n",
      "prev_rowmax = 8.0 | rowmax = 9.0 | denominator = 1.5819048881530762\n",
      "tensor([1.2341e-04, 3.3546e-04, 9.1188e-04, 2.4788e-03, 6.7379e-03, 1.8316e-02,\n",
      "        4.9787e-02, 1.3534e-01, 3.6788e-01, 1.0000e+00])\n",
      "tensor(1.5819)\n"
     ]
    },
    {
     "data": {
      "text/plain": [
       "True"
      ]
     },
     "execution_count": 39,
     "metadata": {},
     "output_type": "execute_result"
    }
   ],
   "source": [
    "#TODO: Cf goodnotes ipad \"Flash attention\"\n",
    "\n",
    "def online_softmax(vec):\n",
    "    N = len(vec)\n",
    "    rowmax = -float(\"inf\")\n",
    "    denominator = 0\n",
    "    # Compute the max and denominator in single pass\n",
    "    for i in range(N):\n",
    "        prev_rowmax = rowmax\n",
    "        rowmax = max(prev_rowmax, vec[i])\n",
    "        denominator = denominator * torch.exp(prev_rowmax - rowmax) + torch.exp(vec[i] - rowmax)\n",
    "        print(f\"prev_rowmax = {prev_rowmax} | rowmax = {rowmax} | denominator = {denominator}\")\n",
    "\n",
    "    print(torch.exp(vec - rowmax))\n",
    "    print(denominator)\n",
    "    return torch.exp(vec - rowmax) / denominator\n",
    "\n",
    "torch.allclose(torch.softmax(x.clone(), dim=0), online_softmax(x.clone()))"
   ]
  },
  {
   "cell_type": "code",
   "execution_count": 40,
   "metadata": {},
   "outputs": [
    {
     "name": "stdout",
     "output_type": "stream",
     "text": [
      "tensor([0., 1., 2., 3., 4., 5., 6., 7., 8., 9.])\n"
     ]
    }
   ],
   "source": [
    "print(x)"
   ]
  },
  {
   "cell_type": "code",
   "execution_count": 41,
   "metadata": {},
   "outputs": [
    {
     "name": "stdout",
     "output_type": "stream",
     "text": [
      "prev_rowmax = -inf | rowmax = 0.0 | denominator = 1.0\n",
      "prev_rowmax = 0.0 | rowmax = 1.0 | denominator = 1.3678793907165527\n",
      "prev_rowmax = 1.0 | rowmax = 2.0 | denominator = 1.503214716911316\n",
      "prev_rowmax = 2.0 | rowmax = 3.0 | denominator = 1.553001880645752\n",
      "prev_rowmax = 3.0 | rowmax = 4.0 | denominator = 1.571317434310913\n",
      "prev_rowmax = 4.0 | rowmax = 5.0 | denominator = 1.5780553817749023\n",
      "prev_rowmax = 5.0 | rowmax = 6.0 | denominator = 1.5805342197418213\n",
      "prev_rowmax = 6.0 | rowmax = 7.0 | denominator = 1.5814460515975952\n",
      "prev_rowmax = 7.0 | rowmax = 8.0 | denominator = 1.5817815065383911\n",
      "prev_rowmax = 8.0 | rowmax = 9.0 | denominator = 1.5819048881530762\n",
      "tensor([1.2341e-04, 3.3546e-04, 9.1188e-04, 2.4788e-03, 6.7379e-03, 1.8316e-02,\n",
      "        4.9787e-02, 1.3534e-01, 3.6788e-01, 1.0000e+00])\n",
      "tensor(1.5819)\n"
     ]
    },
    {
     "data": {
      "text/plain": [
       "tensor([7.8013e-05, 2.1206e-04, 5.7645e-04, 1.5669e-03, 4.2594e-03, 1.1578e-02,\n",
       "        3.1473e-02, 8.5552e-02, 2.3255e-01, 6.3215e-01])"
      ]
     },
     "execution_count": 41,
     "metadata": {},
     "output_type": "execute_result"
    }
   ],
   "source": [
    "online_softmax(x.clone())"
   ]
  },
  {
   "cell_type": "code",
   "execution_count": 47,
   "metadata": {},
   "outputs": [
    {
     "data": {
      "text/plain": [
       "tensor([1.2341e-04, 3.3546e-04, 9.1188e-04, 2.4788e-03, 6.7379e-03, 1.8316e-02,\n",
       "        4.9787e-02, 1.3534e-01, 3.6788e-01, 1.0000e+00])"
      ]
     },
     "execution_count": 47,
     "metadata": {},
     "output_type": "execute_result"
    }
   ],
   "source": [
    "torch.exp(x - torch.max(x))"
   ]
  },
  {
   "cell_type": "code",
   "execution_count": 48,
   "metadata": {},
   "outputs": [
    {
     "data": {
      "text/plain": [
       "tensor(1.5819)"
      ]
     },
     "execution_count": 48,
     "metadata": {},
     "output_type": "execute_result"
    }
   ],
   "source": [
    "torch.sum(torch.exp(x - torch.max(x)))"
   ]
  },
  {
   "cell_type": "code",
   "execution_count": 49,
   "metadata": {},
   "outputs": [
    {
     "data": {
      "text/plain": [
       "tensor([7.8013e-05, 2.1206e-04, 5.7645e-04, 1.5669e-03, 4.2594e-03, 1.1578e-02,\n",
       "        3.1473e-02, 8.5552e-02, 2.3255e-01, 6.3215e-01])"
      ]
     },
     "execution_count": 49,
     "metadata": {},
     "output_type": "execute_result"
    }
   ],
   "source": [
    "torch.exp(x - torch.max(x)) / torch.sum(torch.exp(x - torch.max(x)))"
   ]
  },
  {
   "cell_type": "code",
   "execution_count": null,
   "metadata": {},
   "outputs": [],
   "source": []
  }
 ],
 "metadata": {
  "kernelspec": {
   "display_name": "env-flash-attention",
   "language": "python",
   "name": "python3"
  },
  "language_info": {
   "codemirror_mode": {
    "name": "ipython",
    "version": 3
   },
   "file_extension": ".py",
   "mimetype": "text/x-python",
   "name": "python",
   "nbconvert_exporter": "python",
   "pygments_lexer": "ipython3",
   "version": "3.9.12"
  },
  "orig_nbformat": 4
 },
 "nbformat": 4,
 "nbformat_minor": 2
}
